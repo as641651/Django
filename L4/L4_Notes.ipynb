{
 "cells": [
  {
   "cell_type": "markdown",
   "metadata": {},
   "source": [
    "## L4 Notes"
   ]
  },
  {
   "cell_type": "markdown",
   "metadata": {},
   "source": [
    "### Relative URLs"
   ]
  },
  {
   "cell_type": "markdown",
   "metadata": {},
   "source": [
    "If **path** in **urls.py** is\n",
    "```python\n",
    "path('app4/relative', views.relative)\n",
    "```\n",
    "Then the ** basic relative** link wil be\n",
    "```html\n",
    "<a href=\"app4/relative\">Relative links</a>\n",
    "```"
   ]
  },
  {
   "cell_type": "markdown",
   "metadata": {},
   "source": [
    "**PROBLEM :** \n",
    "> In the future, if we want to change the url name, we have to change the name in all the **HTML** and **view files**\n",
    "\n",
    "> Therefore we use **template tagged conventions** for urls"
   ]
  },
  {
   "cell_type": "markdown",
   "metadata": {},
   "source": [
    "**Template tagged URL mapping**"
   ]
  },
  {
   "cell_type": "markdown",
   "metadata": {},
   "source": [
    "We make use of the **name** given to the link in **urls.py**.\n",
    "```python\n",
    "path('app4/relative',views.relative,name='relative_p')\n",
    "```\n",
    "\n",
    "The link will be\n",
    "```html\n",
    "<a href=\"{% url 'relative_p' %}\">Relative links</a>\n",
    "```"
   ]
  },
  {
   "cell_type": "markdown",
   "metadata": {},
   "source": [
    "It is common to use **global namespaces** when **urls.py** is in separate applications"
   ]
  },
  {
   "cell_type": "markdown",
   "metadata": {},
   "source": [
    "In **urls.py**\n",
    "```python\n",
    "path('app4/', include('app4.urls')),\n",
    "```"
   ]
  },
  {
   "cell_type": "markdown",
   "metadata": {},
   "source": [
    "In **app4/urls.py**\n",
    "\n",
    "```python\n",
    "#Global namespace\n",
    "app_name = 'Application4'\n",
    "\n",
    "urlpatterns =[\n",
    "    path('relative/',views.relative,name='relative_p'),\n",
    "    path('other/',views.other,name='other_p'),\n",
    "]\n",
    "```"
   ]
  },
  {
   "cell_type": "markdown",
   "metadata": {},
   "source": [
    "**Relative link with namespaces** :\n",
    "```html\n",
    "    <!--  url 'app_name:url_name'  -->\n",
    "    <!-- make sure to have no spaces between '' -->\n",
    "    <a href=\"{% url 'Application4:other_p' %}\">template tagged link to Other</a>\n",
    "```"
   ]
  },
  {
   "cell_type": "markdown",
   "metadata": {},
   "source": [
    "**Link to admin page :** (Migrate first to use this link) \n",
    "```html\n",
    "  <!-- index page of admin/ is under application 'admin'. Migrate first to use this link -->\n",
    "    <a href=\"{% url 'admin:index' %}\">template tagged link to Admin page</a>\n",
    "```"
   ]
  },
  {
   "cell_type": "markdown",
   "metadata": {},
   "source": [
    "### Template inheritance"
   ]
  },
  {
   "cell_type": "markdown",
   "metadata": {},
   "source": [
    "> This is a powerful method to reuse code.\n",
    "\n",
    "> First we create a **base.html** while extracts all reusable code"
   ]
  },
  {
   "cell_type": "markdown",
   "metadata": {},
   "source": [
    "**base.html**\n",
    "```html\n",
    "<!DOCTYPE html>\n",
    "<html>\n",
    "  <head>\n",
    "    <meta charset=\"utf-8\">\n",
    "    <title>Template tagging</title>\n",
    "\n",
    "    <!-- bootstrap -->\n",
    "    <link rel=\"stylesheet\" href=\"https://stackpath.bootstrapcdn.com/bootstrap/4.1.3/css/bootstrap.min.css\"\n",
    "    integrity=\"sha384-MCw98/SFnGE8fJT3GXwEOngsV7Zt27NXFoaoApmYm81iuXoPkFOJwJ8ERdknLPMO\" crossorigin=\"anonymous\">\n",
    "\n",
    "  </head>\n",
    "  <body>\n",
    "\n",
    "      <nav class=\"navbar navbar-expand fixed-top navbar-dark bg-dark\">\n",
    "          <a class=\"navbar-brand\" href=\"{% url 'index' %}\">INDEX</a>\n",
    "          <ul class=\"navbar-nav\">\n",
    "            <li> <a class=\"nav-link\" href=\"{% url 'admin:index' %}\">Admin</a> </li>\n",
    "            <li> <a class=\"nav-link\" href=\"{% url 'Application4:other_p' %}\">Other</a> </li>\n",
    "          </ul>\n",
    "      </nav>\n",
    "\n",
    "      {% block body_block %}\n",
    "        <!-- Anything outside of this will be inherited -->\n",
    "      {% endblock %}\n",
    "\n",
    "  </body>\n",
    "</html>\n",
    "```"
   ]
  },
  {
   "cell_type": "markdown",
   "metadata": {},
   "source": [
    "**Inheriting base.html in index.html**\n",
    "```html\n",
    "<!DOCTYPE html>\n",
    "<!-- doctype is important while inheriting -->\n",
    "\n",
    "<!-- inherited file -->\n",
    "<!-- should point to the file from TEMPLATE_DIR! not the URL-->\n",
    "{% extends \"base.html\" %}\n",
    "\n",
    "<!-- Anything inside this block will correspond to location of this block in base.html -->\n",
    "  {% block body_block %}\n",
    "    <div style=\"margin-bottom:60px;\"></div>\n",
    "    <div class=\"jumbotron\">\n",
    "      <h1>Welcome</h1>\n",
    "    </div>\n",
    "\n",
    "    <div class=\"container\">\n",
    "      It is advisable to use template tagged URLS. \n",
    "      Otherwise, if you want to change the URL name in the future, \n",
    "      you have to change the names in all the views and HTML files!\n",
    "      <a href=\"app4/relative\">Relative links</a>\n",
    "\n",
    "    </div>\n",
    "  {% endblock %}\n",
    "```"
   ]
  },
  {
   "cell_type": "markdown",
   "metadata": {},
   "source": [
    "### Template filters"
   ]
  },
  {
   "cell_type": "markdown",
   "metadata": {},
   "source": [
    "The objects injected into html templates can be modified at the front-end using **template filters**"
   ]
  },
  {
   "cell_type": "markdown",
   "metadata": {},
   "source": [
    "**Built-in filters**"
   ]
  },
  {
   "cell_type": "markdown",
   "metadata": {},
   "source": [
    "views.py\n",
    "```python\n",
    "# Create your views here.\n",
    "def index(request):\n",
    "    d = {'text':'hello world',\n",
    "         'number':100,\n",
    "         'input':forms.NameForm() #Field : name\n",
    "        }\n",
    "    return render(request,'index.html',context=d)\n",
    "```"
   ]
  },
  {
   "cell_type": "markdown",
   "metadata": {},
   "source": [
    "index.html\n",
    "```html\n",
    "      <!-- change text to upper case -->\n",
    "      <p>{{text | upper}}</p>\n",
    "      <!-- add on to a number -->\n",
    "      <p>{{number | add:\"99\"}}</p>\n",
    "```"
   ]
  },
  {
   "cell_type": "markdown",
   "metadata": {},
   "source": [
    "[Reference](https://docs.djangoproject.com/en/2.1/ref/templates/builtins/#ref-templates-builtins-filters) of all built-in filters is available "
   ]
  },
  {
   "cell_type": "markdown",
   "metadata": {},
   "source": [
    "**Custom filters**\n",
    "\n",
    "Any custom operation can be specified in a .py file under 'templatetags' directory in app folder"
   ]
  },
  {
   "cell_type": "markdown",
   "metadata": {},
   "source": [
    "**templatetags/my_extras.py**\n",
    "```python\n",
    "from django import template\n",
    "\n",
    "#GEt instance of template.Library\n",
    "register = template.Library()\n",
    "\n",
    "#define operation\n",
    "def cut(value,arg):\n",
    "    \"\"\"\n",
    "    This cuts all values of arg from the string!\n",
    "    \"\"\"\n",
    "    return value.replace(arg,'')\n",
    "\n",
    "#register the operation Function\n",
    "register.filter('cut',cut)\n",
    "\n",
    "#registering filters using decorators\n",
    "@register.filter(name='add_placeholder')\n",
    "def add_placeholder(value,arg):\n",
    "    value.field.widget.attrs.update({'placeholder':arg})\n",
    "    return value\n",
    "\n",
    "@register.filter(name='add_class')\n",
    "def add_class(value,arg):\n",
    "    value.field.widget.attrs.update({'class':arg})\n",
    "    return value\n",
    "```"
   ]
  },
  {
   "cell_type": "markdown",
   "metadata": {},
   "source": [
    "**Using custom filters** in HTML\n",
    "```html\n",
    "      <!-- load the filter -->\n",
    "      {% load my_extras %}\n",
    "      <!-- text | filter_name:filter_arg -->\n",
    "      <p>{{text | cut:'hello'}}</p>\n",
    "      <!-- applying multiple filters -->\n",
    "      <p>{{input.name | add_placeholder:\"Name\" | add_class:\"form-control\"}}</p>\n",
    "```"
   ]
  },
  {
   "cell_type": "code",
   "execution_count": null,
   "metadata": {},
   "outputs": [],
   "source": []
  }
 ],
 "metadata": {
  "kernelspec": {
   "display_name": "Python 3",
   "language": "python",
   "name": "python3"
  },
  "language_info": {
   "codemirror_mode": {
    "name": "ipython",
    "version": 3
   },
   "file_extension": ".py",
   "mimetype": "text/x-python",
   "name": "python",
   "nbconvert_exporter": "python",
   "pygments_lexer": "ipython3",
   "version": "3.4.3"
  }
 },
 "nbformat": 4,
 "nbformat_minor": 2
}
