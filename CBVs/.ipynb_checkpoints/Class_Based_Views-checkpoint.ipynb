{
 "cells": [
  {
   "cell_type": "markdown",
   "metadata": {},
   "source": [
    "## Class based Views"
   ]
  },
  {
   "cell_type": "markdown",
   "metadata": {},
   "source": [
    "So far we have coded **views** as a **function**. But most of the advanced projects have **class based views** inhertiting from \n",
    "```python\n",
    "django.views.generic\n",
    "```\n",
    "In **urls.py**, make sure to call **{class_name}.as_view()** "
   ]
  },
  {
   "cell_type": "markdown",
   "metadata": {},
   "source": [
    "### Advantages\n",
    "\n",
    "> Organization of code related to specific HTTP methods (GET, POST, etc.) can be addressed by separate methods instead of conditional branching.\n",
    "    \n",
    "> Object oriented techniques such as mixins (multiple inheritance) can be used to factor code into reusable components.\n",
    "\n",
    "> Look at [Documentation](https://docs.djangoproject.com/en/2.1/topics/class-based-views/intro/) and [list of available views](https://docs.djangoproject.com/en/2.1/ref/class-based-views/) for more info\n"
   ]
  },
  {
   "cell_type": "markdown",
   "metadata": {},
   "source": [
    "### Simple class based view"
   ]
  },
  {
   "cell_type": "markdown",
   "metadata": {},
   "source": [
    "> In **views.py**, instead of using **index function**, this class can be used\n",
    "\n",
    "```python\n",
    "    from django.views.generic imoprt View\n",
    "\n",
    "    class CBView(View):\n",
    "        def get(self,request):\n",
    "            #contents as under index(request)\n",
    "            return render(request,'index.html',{'text':'Simple CBV'})\n",
    "```"
   ]
  },
  {
   "cell_type": "markdown",
   "metadata": {},
   "source": [
    "> In **urls.py**\n",
    "```python\n",
    "path(\"\",views.CBView.as_view()),\n",
    "```"
   ]
  },
  {
   "cell_type": "markdown",
   "metadata": {},
   "source": [
    "### Template View\n",
    "\n",
    "This class is built over simple view. This class automatically renders, thereby eliminating the need for **render** function"
   ]
  },
  {
   "cell_type": "markdown",
   "metadata": {},
   "source": [
    "> In **views.py**\n",
    "\n",
    "```python\n",
    "    #URL : templateview/\n",
    "    #Template view\n",
    "    from django.views.generic import TemplateView\n",
    "\n",
    "    class IndexView(TemplateView):\n",
    "\n",
    "        template_name = 'index.html'\n",
    "\n",
    "        #Injecting content\n",
    "        def get_context_data(self,**kwargs):\n",
    "            # **kwargs are the other key word args\n",
    "            context = super().get_context_data(**kwargs)\n",
    "            context['text'] = \"Template view!\"\n",
    "            return context\n",
    "\n",
    "```"
   ]
  },
  {
   "cell_type": "markdown",
   "metadata": {},
   "source": [
    "### List View\n",
    "\n",
    "This class is built over template view. This class takes in a **model** and automatically creates **context dict**"
   ]
  },
  {
   "cell_type": "markdown",
   "metadata": {},
   "source": [
    "> In **models.py**\n",
    "\n",
    "```python\n",
    "    # Create your models here.\n",
    "    class School(models.Model):\n",
    "        name = models.CharField(max_length=256)\n",
    "        principal = models.CharField(max_length=256)\n",
    "        location = models.CharField(max_length=256)\n",
    "\n",
    "        def __str__(self):\n",
    "            return self.name #This is printed when used as Foreign key\n",
    "\n",
    "    class Student(models.Model):\n",
    "        name = models.CharField(max_length=256)\n",
    "        age = models.PositiveIntegerField()\n",
    "        #use of related name is seen in list view\n",
    "        school = models.ForeignKey(School,on_delete=models.CASCADE,related_name='students')\n",
    "\n",
    "        def __str__(self):\n",
    "            return self.name\n",
    "```"
   ]
  },
  {
   "cell_type": "markdown",
   "metadata": {},
   "source": [
    "> In **views.py**, instead of getting list of entries as\n",
    "```python\n",
    "list = models.{class_name}.objects.all()\n",
    "```\n",
    "> we just use the **ListView** class\n",
    "\n",
    "```python\n",
    "    #List view\n",
    "    #URL : listview/\n",
    "    from django.views.generic import ListView\n",
    "    from . import models\n",
    "\n",
    "    #Lists all the school\n",
    "    class SchoolListView(ListView):\n",
    "        model = models.School\n",
    "        #This class takes in the model class name, lower cases it and creates default context object and html files\n",
    "\n",
    "        template_name = 'index.html'\n",
    "        # in absense of template_name, this class will look into 'basic_app/school_list.html'\n",
    "\n",
    "        context_object_name = 'schools'\n",
    "        # in absence of context name, it will be 'school_list'\n",
    "\n",
    "        def get_context_data(self,**kwargs):\n",
    "            context = super().get_context_data(**kwargs)\n",
    "            context['text'] = \"List view!\"\n",
    "            return context\n",
    "```"
   ]
  },
  {
   "cell_type": "markdown",
   "metadata": {},
   "source": [
    "> In **index.html** (called from url : listview/)\n",
    "\n",
    "```html\n",
    "    {% if schools %}\n",
    "      <h2>List of schools : </h2>\n",
    "      <ol>\n",
    "        {% for s in schools %}\n",
    "          <!-- id is an autogenetrated primary key -->\n",
    "         <li><a href=\"{{s.id}}\">{{s.name}}, {{s.location}}</a></li>\n",
    "         <!-- the link becomes /listview/{id}-->\n",
    "         <!-- if href=\"/{{s.id}}\", link becomes /{id} -->\n",
    "         <!-- the link should match with the detailsView in urls.py -->\n",
    "    \n",
    "         <!-- 'students' is a related name in foreign key -->\n",
    "         {% for student in s.students.all %}\n",
    "           <p>{{student.name}}, {{student.age}} years old</p>\n",
    "         {% endfor %}\n",
    "    \n",
    "        {% endfor %}\n",
    "      </ol>\n",
    "    {% endif %}\n",
    "```"
   ]
  },
  {
   "cell_type": "markdown",
   "metadata": {},
   "source": [
    "### Detail View\n",
    "\n",
    "This view creates a **separate URL based on primary key for each entry in model**. This looks same as **ListView**, except for URL mappings and naming conventions"
   ]
  },
  {
   "cell_type": "markdown",
   "metadata": {},
   "source": [
    "> In **views.py**\n",
    "\n",
    "```python\n",
    "    #Lists the details of school, like students\n",
    "    #Each entery in the model gets a separate URL\n",
    "    class SchoolDetailView(DetailView):\n",
    "        model = models.School\n",
    "\n",
    "        template_name = 'index.html'\n",
    "        # in absense of template_name, this class will look into 'basic_app/school_detail.html'\n",
    "\n",
    "        context_object_name = 'school_detail'\n",
    "        # in absence of context name, it will be 'school'\n",
    "\n",
    "        def get_context_data(self,**kwargs):\n",
    "            context = super().get_context_data(**kwargs)\n",
    "            context['text'] = \"Detail view!\"\n",
    "            return context\n",
    "```"
   ]
  },
  {
   "cell_type": "markdown",
   "metadata": {},
   "source": [
    "> In **urls.py**\n",
    "```python\n",
    "path('listview/<int:pk>/',views.SchoolDetailView.as_view(),name='details'),\n",
    "#pk stands for primary key\n",
    "```"
   ]
  },
  {
   "cell_type": "markdown",
   "metadata": {},
   "source": [
    "> In **index.html** (renders separate for each entry under URL 'listview/{id}'\n",
    "```html\n",
    "    {% if school_detail %}\n",
    "      <h2>Schools details: </h2>\n",
    "      <p>Name : {{school_detail.name}}</p>\n",
    "      <p>Principal : {{school_detail.principal}}</p>\n",
    "      <p>Location : {{school_detail.location}}</p>\n",
    "      <h3>Students : </h3>\n",
    "      <!-- 'students' is a related name in foreign key -->\n",
    "      {% for student in school_detail.students.all %}\n",
    "        <p>{{student.name}}, {{student.age}} years old</p>\n",
    "      {% endfor %}\n",
    "    {% endif %}\n",
    "```"
   ]
  },
  {
   "cell_type": "markdown",
   "metadata": {},
   "source": [
    "### Create View\n",
    " Creates a HTML form with fields that can be filled and added to database"
   ]
  },
  {
   "cell_type": "markdown",
   "metadata": {},
   "source": [
    "> In **views.py**\n",
    "\n",
    "```python\n",
    "    #CreateView\n",
    "    #URL : createview/\n",
    "    from django.views.generic import CreateView\n",
    "    #Creates a form to add entry into model\n",
    "    class SchoolCreateView(CreateView):\n",
    "        model = models.School\n",
    "        #fields are mandatory\n",
    "        fields = ('name','principal','location')\n",
    "        template_name = 'index.html'\n",
    "        #by default, looks for basic_app/school_form.html\n",
    "        # context variable = form\n",
    "```"
   ]
  },
  {
   "cell_type": "markdown",
   "metadata": {},
   "source": [
    "> This requires **get_absolute_url()** method to be implemented in **model class**. This gives the URL to redirect upon submission of form. '**action**' attribute in form element does not work\n",
    "\n",
    "> In **models.py** under the class **School**\n",
    "\n",
    "```python\n",
    "    #This needs to be implemented to use CreateView\n",
    "    def get_absolute_url(self):\n",
    "        return reverse(\"details\",kwargs={'pk':self.pk})\n",
    "        # return \"/listview/\"\n",
    "```"
   ]
  },
  {
   "cell_type": "markdown",
   "metadata": {},
   "source": [
    "### Update View\n",
    "Each entry gets a separate URL with form fields to update. This also requires **get_absolute_url()** to be implemented."
   ]
  },
  {
   "cell_type": "markdown",
   "metadata": {},
   "source": [
    "> In **views.py**\n",
    "\n",
    "```python\n",
    "    #UpdateView\n",
    "    from django.views.generic import UpdateView\n",
    "\n",
    "    #Each entry gets a separate URL\n",
    "    class SchoolUpdateView(UpdateView):\n",
    "        model = models.School\n",
    "        fields = ('name','principal')\n",
    "        # if {{form.location}} is used in html, it wont be rendered\n",
    "\n",
    "        template_name= 'index.html'\n",
    "        #by default, looks for basic_app/school_form.html\n",
    "        # context variable = form\n",
    "```"
   ]
  },
  {
   "cell_type": "markdown",
   "metadata": {},
   "source": [
    "> In **urls.py**\n",
    "```python\n",
    "path('update/<int:pk>/',views.SchoolUpdateView.as_view(),name='update'),\n",
    "```"
   ]
  },
  {
   "cell_type": "markdown",
   "metadata": {},
   "source": [
    "> In **index.html**\n",
    "```html\n",
    "    {% if form %}\n",
    "      {% if not form.instance.pk %}\n",
    "        <!-- when entered from SchoolCreateView -->\n",
    "        <h1>Create school</h1>\n",
    "      {% else %}\n",
    "        <!-- when entered from SchoolUpdateView -->\n",
    "        <h1>Update school</h1>\n",
    "      {% endif %}\n",
    "      <form method=\"POST\">\n",
    "        {% csrf_token %}\n",
    "        {{ form.as_p }}\n",
    "        <input type=\"submit\" class='btn btn-primary' value=\"Submit\">\n",
    "      </form>\n",
    "    {% endif %}\n",
    "```"
   ]
  },
  {
   "cell_type": "markdown",
   "metadata": {},
   "source": [
    "### Delete View\n",
    "Each entry has a separate URL"
   ]
  },
  {
   "cell_type": "markdown",
   "metadata": {},
   "source": [
    "> In **views.py**\n",
    "\n",
    "```python\n",
    "    #DeleteView\n",
    "    from django.views.generic import DeleteView\n",
    "    from django.urls import reverse_lazy\n",
    "\n",
    "    #Each entry gets a separate URL\n",
    "    class SchoolDeleteView(DeleteView):\n",
    "        model = models.School\n",
    "        #reverse_lazy redirects only upon success\n",
    "        success_url = reverse_lazy(\"list\")\n",
    "        template_name= 'school_confirm_delete.html'\n",
    "        #basic_app/school_confirm_delete.html is the default html file\n",
    "        context_object_name = 'school_delete'\n",
    "        #default is school\n",
    "```"
   ]
  },
  {
   "cell_type": "markdown",
   "metadata": {},
   "source": [
    "> In **urls.py**\n",
    "```python\n",
    "path('delete/<int:pk>/',views.SchoolDeleteView.as_view(),name='delete'),\n",
    "```"
   ]
  },
  {
   "cell_type": "markdown",
   "metadata": {},
   "source": [
    "> In **school_confirm_delete.html**\n",
    "```html\n",
    "    <h1>Delete {{school_delete.name}}?</h1>\n",
    "    <form method=\"post\">\n",
    "        {% csrf_token %}\n",
    "        <input type=\"submit\" class=\"btn btn-danger\" value=\"Delete\">\n",
    "        <a class=\"btn btn-warning\" href=\"{% url 'details' pk=school_delete.pk %}\">Cancel</a>\n",
    "    </form>\n",
    "```"
   ]
  },
  {
   "cell_type": "code",
   "execution_count": null,
   "metadata": {},
   "outputs": [],
   "source": []
  }
 ],
 "metadata": {
  "kernelspec": {
   "display_name": "Python 3",
   "language": "python",
   "name": "python3"
  },
  "language_info": {
   "codemirror_mode": {
    "name": "ipython",
    "version": 3
   },
   "file_extension": ".py",
   "mimetype": "text/x-python",
   "name": "python",
   "nbconvert_exporter": "python",
   "pygments_lexer": "ipython3",
   "version": "3.4.3"
  }
 },
 "nbformat": 4,
 "nbformat_minor": 2
}
