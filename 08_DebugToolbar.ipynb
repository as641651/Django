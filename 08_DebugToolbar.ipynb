{
 "cells": [
  {
   "cell_type": "markdown",
   "metadata": {},
   "source": [
    "## Debug Toolbar"
   ]
  },
  {
   "cell_type": "markdown",
   "metadata": {},
   "source": [
    "### Set up"
   ]
  },
  {
   "cell_type": "markdown",
   "metadata": {},
   "source": [
    "**Install : **\n",
    "```bash\n",
    "pip install django-debug-toolbar\n",
    "```"
   ]
  },
  {
   "cell_type": "markdown",
   "metadata": {},
   "source": [
    "** In settings.py**\n",
    "\n",
    "```python\n",
    "INSTALLED_APPS = [\n",
    "    ...\n",
    "    #Should be placed after staticfiles app\n",
    "    'debug_toolbar',\n",
    "    ...\n",
    "]\n",
    "\n",
    "MIDDLEWARE = [\n",
    "\n",
    "    #add this to use debug toolbar\n",
    "    'debug_toolbar.middleware.DebugToolbarMiddleware',\n",
    "]\n",
    "\n",
    "#add this to use debug debug_toolbar\n",
    "INTERNAL_IPS = ['127.0.0.1',]\n",
    "```"
   ]
  },
  {
   "cell_type": "markdown",
   "metadata": {},
   "source": [
    "In **urls.py**\n",
    "\n",
    "```python\n",
    "from django.conf import settings\n",
    "\n",
    "if settings.DEBUG:\n",
    "    import debug_toolbar\n",
    "    urlpatterns=[\n",
    "        path('__debug__/',include(debug_toolbar.urls)),\n",
    "    ] + urlpatterns\n",
    "```"
   ]
  },
  {
   "cell_type": "code",
   "execution_count": null,
   "metadata": {},
   "outputs": [],
   "source": []
  }
 ],
 "metadata": {
  "kernelspec": {
   "display_name": "Python 3",
   "language": "python",
   "name": "python3"
  },
  "language_info": {
   "codemirror_mode": {
    "name": "ipython",
    "version": 3
   },
   "file_extension": ".py",
   "mimetype": "text/x-python",
   "name": "python",
   "nbconvert_exporter": "python",
   "pygments_lexer": "ipython3",
   "version": "3.4.3"
  }
 },
 "nbformat": 4,
 "nbformat_minor": 2
}
