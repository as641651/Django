{
 "cells": [
  {
   "cell_type": "markdown",
   "metadata": {},
   "source": [
    "## Virtual environment with conda\n",
    "\n",
    "Useful when root previliges are not required"
   ]
  },
  {
   "cell_type": "markdown",
   "metadata": {},
   "source": [
    "### Installation:\n",
    "\n",
    "> [Install miniconda](https://conda.io/docs/user-guide/install/linux.html)"
   ]
  },
  {
   "cell_type": "markdown",
   "metadata": {},
   "source": [
    "### User Guide\n",
    "\n",
    "> [Documentation](https://conda.io/docs/user-guide/tasks/manage-environments.html)"
   ]
  },
  {
   "cell_type": "markdown",
   "metadata": {},
   "source": [
    "** Creating new django env**\n",
    "\n",
    "> conda create --name myEnv django\n",
    "\n",
    "> source activate myEnv \n",
    "\n",
    "> source deactivate myEnv"
   ]
  },
  {
   "cell_type": "markdown",
   "metadata": {},
   "source": [
    "**List all envs**\n",
    "\n",
    "> conda info --envs\n",
    "\n",
    "> **OR**\n",
    "\n",
    "> conda env list"
   ]
  },
  {
   "cell_type": "markdown",
   "metadata": {},
   "source": [
    "** List of packages installed in env**\n",
    "\n",
    "> **If env is not activated:**\n",
    "\n",
    "> conda list -n myenv \n",
    "\n",
    "> **If env activated:**\n",
    "\n",
    "> conda list "
   ]
  },
  {
   "cell_type": "markdown",
   "metadata": {},
   "source": [
    "**Remove environment**\n",
    "\n",
    "> conda env remove --name myenv"
   ]
  },
  {
   "cell_type": "markdown",
   "metadata": {},
   "source": [
    "### Exporting environment\n",
    "\n",
    "> Most often we want to export the dependencies installed in an environment. This is done by creating a **.yml** file\n",
    "\n",
    "> Export your **active environment** to a new file\n",
    "```bash\n",
    "conda env export > environment.yml\n",
    "```\n",
    "\n",
    "> The first line of **.yml** file is the name of the environment\n",
    "\n",
    "> **Create the environment from the environment.yml file:**\n",
    "```bash\n",
    "conda env create -f environment.yml\n",
    "```"
   ]
  },
  {
   "cell_type": "markdown",
   "metadata": {},
   "source": [
    "### Python packages\n",
    "\n",
    "> Installing conda defaults python binary under **miniconda**\n",
    "```bash\n",
    "/home/sankaran/miniconda3/bin/python\n",
    "```\n",
    "\n",
    "> Using pip or conda to install python packages, installs the binary under corresponding python command in the environment\n",
    "```bash\n",
    "\n",
    ">> which python\n",
    ">> /home/sankaran/miniconda3/bin/python\n",
    ">> source activate django \n",
    ">>(django) which python \n",
    ">>(django) /home/sankaran/miniconda3/envs/django/bin/python\n",
    ">> (if python is available under conda list of that environment. Otherwise, picks from miniconda3/bin, otherwise /user)\n",
    ">>(django) pip install numpy\n",
    ">> (Installs numpy under /home/sankaran/miniconda3/envs/django/lib/python/site-packages)\n",
    "```\n",
    "> When using virtual envs, **make sure to use the python binary under that environment**\n",
    "\n",
    ">**apt-get install** installs python packages under **python** in **/usr/lib/**. That is, these packages will only be available for python binaries under **usr/bin/**"
   ]
  },
  {
   "cell_type": "markdown",
   "metadata": {},
   "source": []
  }
 ],
 "metadata": {
  "kernelspec": {
   "display_name": "Python 3",
   "language": "python",
   "name": "python3"
  },
  "language_info": {
   "codemirror_mode": {
    "name": "ipython",
    "version": 3
   },
   "file_extension": ".py",
   "mimetype": "text/x-python",
   "name": "python",
   "nbconvert_exporter": "python",
   "pygments_lexer": "ipython3",
   "version": "3.4.3"
  }
 },
 "nbformat": 4,
 "nbformat_minor": 2
}
