{
 "cells": [
  {
   "cell_type": "markdown",
   "metadata": {},
   "source": [
    "## Django Models"
   ]
  },
  {
   "cell_type": "markdown",
   "metadata": {},
   "source": [
    "An essential part of any website is the ability to accept information from a usser and input it into a database. Also, it has to retrieve information from a database and use it to generate content for the user"
   ]
  },
  {
   "cell_type": "markdown",
   "metadata": {},
   "source": [
    "We use **MODELS** to incorporate a **database** into a Django project "
   ]
  },
  {
   "cell_type": "markdown",
   "metadata": {},
   "source": [
    "> In **settings.py**, you can edit the **ENGINE** parameter used for database\n",
    "\n",
    "> To create an actual **model**, we can use a class structure (inhertited from **django.db.models.Model**) inside of relavant applications **models.py** file. Each **attribute of the class** represents a **field** (Column names with constraints)\n",
    "\n",
    "> Then **migrate** database\n",
    "\n",
    "> Register model to **admin** and create **superuser** in order to fully use the database"
   ]
  },
  {
   "cell_type": "markdown",
   "metadata": {},
   "source": [
    "### Creating model\n",
    "\n",
    "In **models.py** under the relavant app, each **class** is a **table** and its attributes are **fields**\n",
    "\n",
    "```python\n",
    "#A table\n",
    "class Topic(models.Model):\n",
    "    #define columns\n",
    "    top_name = models.CharField(max_length=264, #constraint max length\n",
    "                                unique=True) #Elements in this column should be unique\n",
    "\n",
    "    def __str__(self):\n",
    "         return self.top_name\n",
    "\n",
    "#another table\n",
    "class Webpage(models.Model):\n",
    "    #Foreign key uses the same column from other table\n",
    "    topic = models.ForeignKey(Topic,on_delete=models.CASCADE)\n",
    "    name = models.CharField(max_length=264,unique=True)\n",
    "    url = models.URLField(unique=True)\n",
    "\n",
    "    def __str__(self):\n",
    "        return self.name\n",
    "    \n",
    "#Another table\n",
    "class AccessRecord(models.Model):\n",
    "    name = models.ForeignKey(Webpage,models.CASCADE)\n",
    "    date = models.DateField()\n",
    "\n",
    "    def __str__(self):\n",
    "        return str(self.date)\n",
    "```\n",
    "\n",
    "For different **field types** in django refer [Field Types documentation](https://docs.djangoproject.com/en/2.1/ref/models/fields/#model-field-types)"
   ]
  },
  {
   "cell_type": "markdown",
   "metadata": {},
   "source": [
    "### Migrate\n",
    "\n",
    ">>```bash\n",
    "python manage.py migrate\n",
    "```\n",
    "\n",
    ">Register changes to application\n",
    "\n",
    ">>```bash\n",
    "python manage.py makemigrations app2\n",
    "```\n",
    "\n",
    ">Migrate one more time\n",
    ">>```bash\n",
    "python manage.py migrate\n",
    "```"
   ]
  },
  {
   "cell_type": "markdown",
   "metadata": {},
   "source": [
    "### Interacting with DB from command line\n",
    "\n",
    "This is done to check migration"
   ]
  },
  {
   "cell_type": "markdown",
   "metadata": {},
   "source": [
    ">```bash\n",
    "python manage.py shell\n",
    "```"
   ]
  },
  {
   "cell_type": "markdown",
   "metadata": {},
   "source": [
    "This opens a python shell\n",
    "\n",
    "```python\n",
    "from app2.models import Topic\n",
    "\n",
    "print(Topic.objects.all())\n",
    "#<QuerySet []>\n",
    "\n",
    "t = Topic(top_name=\"Social Network\")\n",
    "t.save()\n",
    "print(Topic.objects.all())\n",
    "#<QuerySet [<Topic: Social Network>]>\n",
    "```"
   ]
  },
  {
   "cell_type": "markdown",
   "metadata": {},
   "source": [
    "### Interacting with DB from admin interface"
   ]
  },
  {
   "cell_type": "markdown",
   "metadata": {},
   "source": [
    "We dont add entry through shell all the time. For this, **admin interface** is used.\n",
    "\n",
    "In **admin.py** under the relavant app\n",
    "\n",
    "```python\n",
    "from django.contrib import admin\n",
    "#import all tables\n",
    "from app2.models import AccessRecord, Topic, Webpage\n",
    "\n",
    "# Register your models here.\n",
    "admin.site.register(AccessRecord)\n",
    "admin.site.register(Topic)\n",
    "admin.site.register(Webpage)\n",
    "```"
   ]
  },
  {
   "cell_type": "markdown",
   "metadata": {},
   "source": [
    "Then we create **superuser** to allow only authorized people to edit database\n",
    "\n",
    ">```bash\n",
    "python manage.py createsuperuser\n",
    "```"
   ]
  },
  {
   "cell_type": "markdown",
   "metadata": {},
   "source": [
    "The database can be accessed from **admin/** on the webpage in the browser\n",
    "\n",
    "```bash\n",
    "http://127.0.0.1:8000/admin\n",
    "```\n",
    "Enter the username and password of super user to access the tables"
   ]
  },
  {
   "cell_type": "markdown",
   "metadata": {},
   "source": [
    "### Populating models with dummy data\n",
    "\n",
    "For this **Faker** library is used"
   ]
  },
  {
   "cell_type": "markdown",
   "metadata": {},
   "source": [
    "```python\n",
    "import os\n",
    "# Configure settings for project\n",
    "# Need to run this before calling models from application!\n",
    "os.environ.setdefault('DJANGO_SETTINGS_MODULE','proj2.settings')\n",
    "\n",
    "import django\n",
    "# Import settings\n",
    "django.setup()\n",
    "\n",
    "import random\n",
    "from app2.models import Topic,Webpage,AccessRecord\n",
    "from faker import Faker\n",
    "\n",
    "fakegen = Faker()\n",
    "topics = ['Search','Social','Marketplace','News','Games']\n",
    "\n",
    "def add_topic():\n",
    "    #returns a tuple and we just grab the first obj\n",
    "    t = Topic.objects.get_or_create(top_name=random.choice(topics))[0]\n",
    "    t.save()\n",
    "    return t\n",
    "\n",
    "\n",
    "\n",
    "def populate(N=5):\n",
    "    '''\n",
    "    Create N Entries of Dates Accessed\n",
    "    '''\n",
    "\n",
    "    for entry in range(N):\n",
    "\n",
    "        # Get Topic for Entry\n",
    "        top = add_topic()\n",
    "\n",
    "        # Create Fake Data for entry\n",
    "        fake_url = fakegen.url()\n",
    "        fake_date = fakegen.date()\n",
    "        fake_name = fakegen.company()\n",
    "\n",
    "        # Create new Webpage Entry\n",
    "        webpg = Webpage.objects.get_or_create(topic=top,url=fake_url,name=fake_name)[0]\n",
    "\n",
    "        # Create Fake Access Record for that page\n",
    "        # Could add more of these if you wanted...\n",
    "        accRec = AccessRecord.objects.get_or_create(name=webpg,date=fake_date)[0]\n",
    "\n",
    "\n",
    "if __name__ == '__main__':\n",
    "    print(\"Populating the databases...Please Wait\")\n",
    "    populate(20)\n",
    "    print('Populating Complete')\n",
    "    ```"
   ]
  },
  {
   "cell_type": "markdown",
   "metadata": {},
   "source": [
    "Run this script to populate database"
   ]
  },
  {
   "cell_type": "markdown",
   "metadata": {},
   "source": [
    "### Model View Template Paradigm\n",
    "\n",
    ">1) In **views.py** import any **models** that will be used\n",
    "\n",
    ">2) In **views.py** query the model for data we will need\n",
    "\n",
    ">3) Pass results from model to template in **views.py**\n",
    "\n",
    ">4) Edit **template** to accept and display the data\n",
    "\n",
    ">5) Map a URL to the view"
   ]
  },
  {
   "cell_type": "markdown",
   "metadata": {},
   "source": [
    "In **views.py**\n",
    "\n",
    "```python\n",
    "from app2.models import Topic, Webpage,AccessRecord\n",
    "\n",
    "def db_table(request):\n",
    "    **webpages_list = AccessRecord.objects.order_by('date')**\n",
    "    date_dict = {'access_records':webpages_list}\n",
    "    return render(request,'tables.html',context=date_dict)\n",
    "```"
   ]
  },
  {
   "cell_type": "markdown",
   "metadata": {},
   "source": [
    "In **urls.py**\n",
    "\n",
    "```python\n",
    "    path(\"tables/\",views.db_table,name=\"tables\"),\n",
    "```"
   ]
  },
  {
   "cell_type": "markdown",
   "metadata": {},
   "source": [
    "In **templates/table.html**\n",
    "\n",
    "```html\n",
    "\n",
    "    <div class=\"django2\">\n",
    "\n",
    "      {% if access_records %} <!-- if statement in template tagging -->\n",
    "\n",
    "        <table>\n",
    "          <thead>\n",
    "            <th>Site Name</th>\n",
    "            <th>Date Accessed</th>\n",
    "          </thead>\n",
    "\n",
    "          {% for acc in access_records %} <!-- for statement in template tagging -->\n",
    "          <tr>\n",
    "            <td>{{ acc.name }}</td> <!-- look at Access_record class in models.py for field names -->\n",
    "            <td>{{ acc.date }}</td>\n",
    "          </tr>\n",
    "          {% endfor %}\n",
    "\n",
    "        </table>\n",
    "\n",
    "      {% endif %}\n",
    "\n",
    "    </div>\n",
    "```"
   ]
  },
  {
   "cell_type": "code",
   "execution_count": null,
   "metadata": {},
   "outputs": [],
   "source": []
  }
 ],
 "metadata": {
  "kernelspec": {
   "display_name": "Python 3",
   "language": "python",
   "name": "python3"
  },
  "language_info": {
   "codemirror_mode": {
    "name": "ipython",
    "version": 3
   },
   "file_extension": ".py",
   "mimetype": "text/x-python",
   "name": "python",
   "nbconvert_exporter": "python",
   "pygments_lexer": "ipython3",
   "version": "3.4.3"
  }
 },
 "nbformat": 4,
 "nbformat_minor": 2
}
