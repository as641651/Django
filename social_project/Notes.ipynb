{
 "cells": [
  {
   "cell_type": "markdown",
   "metadata": {},
   "source": [
    "## Notes"
   ]
  },
  {
   "cell_type": "markdown",
   "metadata": {},
   "source": [
    "### Using and modifying User authentication models and forms"
   ]
  },
  {
   "cell_type": "markdown",
   "metadata": {},
   "source": [
    "> In **models.py**\n",
    "\n",
    "```python\n",
    "    from django.contrib import auth\n",
    "\n",
    "    # Create your models here.\n",
    "    class User(auth.models.User,auth.models.PermissionsMixin):\n",
    "\n",
    "        def __str__(self):\n",
    "            return \"@{}\".format(self.username)\n",
    "```"
   ]
  },
  {
   "cell_type": "markdown",
   "metadata": {},
   "source": [
    "> In **forms.py**\n",
    "\n",
    "```python\n",
    "    from django.contrib.auth import get_user_model\n",
    "    from django.contrib.auth.forms import UserCreationForm\n",
    "\n",
    "    class UserCreateForm(UserCreationForm):\n",
    "        class Meta:\n",
    "            model = get_user_model()\n",
    "            fields = ('username','email','password1','password2')\n",
    "\n",
    "        #Changing the labels for the fields\n",
    "        def __init__(self,*args,**kwargs):\n",
    "            super().__init__(*args,**kwargs)\n",
    "            self.fields['username'].label = 'Display Name'\n",
    "            self.fields['email'].label = 'Email Address'\n",
    "```"
   ]
  },
  {
   "cell_type": "markdown",
   "metadata": {},
   "source": [
    "> In **views.py**\n",
    "\n",
    "```python\n",
    "    # Create your views here.\n",
    "    #accounts/signup/\n",
    "    class SignUp(CreateView):\n",
    "        form_class = forms.UserCreateForm\n",
    "        success_url = reverse_lazy('login')\n",
    "        template_name = 'accounts/signup.html'\n",
    "```"
   ]
  },
  {
   "cell_type": "markdown",
   "metadata": {},
   "source": [
    "### Using bootstarp themes with django"
   ]
  },
  {
   "cell_type": "markdown",
   "metadata": {},
   "source": [
    "> Install\n",
    "```bash\n",
    "pip install django-bootstrap4\n",
    "```"
   ]
  },
  {
   "cell_type": "markdown",
   "metadata": {},
   "source": [
    "> In **settings.py**\n",
    "```html\n",
    "INSTALLED_APPS = [\n",
    "    ...\n",
    "    'bootstrap4',\n",
    "    ...\n",
    "]\n",
    "```"
   ]
  },
  {
   "cell_type": "markdown",
   "metadata": {},
   "source": [
    "> Using them in **templates : accounts/signup.html**\n",
    "\n",
    "```html\n",
    "{% extends \"base.html\" %}\n",
    "\n",
    "<!-- using django-bootstrap -->\n",
    "{% load bootstrap4 %}\n",
    "\n",
    "{% block content %}\n",
    "<div class=\"jumbotron\">\n",
    "  <h1>Sign up</h1>\n",
    "</div>\n",
    "\n",
    "<div class=\"container\">\n",
    "  <form method=\"post\">\n",
    "    {% csrf_token %}\n",
    "    <!-- loading bootstrap styles -->\n",
    "    {% bootstrap_form form %}\n",
    "    <input type=\"submit\" class=\"btn btn-primary\" value=\"Sign Up\">\n",
    "  </form>\n",
    "</div>\n",
    "\n",
    "{% endblock %}\n",
    "```"
   ]
  },
  {
   "cell_type": "markdown",
   "metadata": {},
   "source": [
    "### Login and LogoutView from auth"
   ]
  },
  {
   "cell_type": "markdown",
   "metadata": {},
   "source": [
    "> In **urls.py**\n",
    "\n",
    "```python\n",
    "    from django.contrib.auth import views as auth_views\n",
    "\n",
    "    path('login/',auth_views.LoginView.as_view(template_name='accounts/login.html'),name='login'),\n",
    "    path('logout/',auth_views.LogoutView.as_view(),name='logout'),\n",
    "```"
   ]
  },
  {
   "cell_type": "markdown",
   "metadata": {},
   "source": [
    "> Set up **redirect urls** in **settings.py**\n",
    "```python\n",
    "LOGIN_REDIRECT_URL = '/loginsuccess'\n",
    "LOGOUT_REDIRECT_URL = '/thanks'\n",
    "```"
   ]
  },
  {
   "cell_type": "markdown",
   "metadata": {},
   "source": [
    "### More about Models"
   ]
  },
  {
   "cell_type": "markdown",
   "metadata": {},
   "source": [
    "Very useful documentation [https://docs.djangoproject.com/en/2.1/ref/models/](https://docs.djangoproject.com/en/2.1/ref/models/)\n",
    "\n",
    "**Sub heading in this documentation**\n",
    "\n",
    "    Model field reference (list of model Fields and their options)\n",
    "    Field attribute reference\n",
    "    Model index reference\n",
    "    Model _meta API\n",
    "    Related objects reference\n",
    "    Model class reference\n",
    "    Model Meta options (Model metadata is “anything that’s not a field”)\n",
    "    Model instance reference\n",
    "    QuerySet API reference\n",
    "    Lookup API reference\n",
    "    Query Expressions\n",
    "    Conditional Expressions\n",
    "    Database Functions\n",
    "\n"
   ]
  },
  {
   "cell_type": "markdown",
   "metadata": {},
   "source": [
    "**Model Meta options**\n",
    "\n",
    "Model metadata is “anything that’s not a field”, such as ordering options (ordering), database table name (db_table),"
   ]
  },
  {
   "cell_type": "markdown",
   "metadata": {},
   "source": [
    "**usage example**\n",
    "\n",
    "```python\n",
    "class GroupMember(models.Model):\n",
    "    group = models.ForeignKey(Group,on_delete=models.CASCADE,related_name='memberships')\n",
    "    user = models.ForeignKey(User,on_delete=models.CASCADE,related_name='user_group')\n",
    "\n",
    "    def __str__(self):\n",
    "        return self.user.username\n",
    "    \n",
    "    #For list of model Meta options:\n",
    "    # ref: https://docs.djangoproject.com/en/dev/ref/models/options/\n",
    "    class Meta:\n",
    "        #Sets of field names that, taken together, must be unique:\n",
    "        unique_together = (group,user)\n",
    "```"
   ]
  },
  {
   "cell_type": "markdown",
   "metadata": {},
   "source": [
    "**SlugField**\n",
    "\n",
    "A slug is a for something, containing only letters, numbers, underscores or hyphens (ie **chars accepted in url**).\n",
    "\n",
    "```python\n",
    "    #allow_unicode : If True, the field accepts Unicode letters in addition to ASCII letters. Defaults to False.\n",
    "    #ref: https://docs.djangoproject.com/en/2.1/ref/models/fields/\n",
    "    slug = models.SlugField(allow_unicode=True.unique=True)\n",
    "```"
   ]
  },
  {
   "cell_type": "markdown",
   "metadata": {},
   "source": [
    "This is useful while sending strings as parameters to url\n",
    "\n",
    "**usage example**\n",
    "\n",
    "```python\n",
    "#Helps in passing strings as parameters to url\n",
    "from django.utils.text import slugify\n",
    "#helps in using markdown inside of the post\n",
    "#pip install misaka\n",
    "import misaka\n",
    "\n",
    "# Create your models here.\n",
    "class Group(models.Model):\n",
    "    name = models.CharField(max_length=255,unique=True)\n",
    "\n",
    "    # A slug is a for something, containing only letters, numbers, underscores or hyphens (ie chars user in url).\n",
    "    #allow_unicode : If True, the field accepts Unicode letters in addition to ASCII letters. Defaults to False.\n",
    "    #ref: https://docs.djangoproject.com/en/2.1/ref/models/fields/\n",
    "    slug = models.SlugField(allow_unicode=True.unique=True)\n",
    "\n",
    "    description = models.TextField(blank=True,default='')\n",
    "    #Used in case we want html version of our description\n",
    "    #editable (option available for all fields):\n",
    "    #If False, the field will not be displayed in the admin or any other ModelForm. They are also skipped during model validation. Default is True.\n",
    "    description_html =  models.TextField(editable=False,default='',blank=True)\n",
    "\n",
    "    # Django will automatically generate a table to manage many-to-many relationships.\n",
    "    # However, if you want to manually specify the intermediary table,\n",
    "    # you can use the through option to specify the Django model that represents the intermediate table that you want to use.\n",
    "    members = models.ManyToManyField(User,through='GroupMember')\n",
    "\n",
    "    def __str__(self):\n",
    "        return self.name\n",
    "\n",
    "    #Funtion in models.Model that saves model to db\n",
    "    def save(self,*args,**kwargs):\n",
    "        #we set slug as the name(unique) of the group\n",
    "        self.slug = slugify(self.name)\n",
    "        #processes markdown\n",
    "        self.description_html = misaka.html(self.description)\n",
    "        super().save(*args,**kwargs)\n",
    "        \n",
    "    def get_absolute_url(self):\n",
    "        #app_name = group\n",
    "        #path(\"posts/in/<slug>\",views.SingleGroup.as_view(),name=\"single\")\n",
    "        return reverse('groups:single',kwargs={'slug':self.slug})\n",
    "```"
   ]
  },
  {
   "cell_type": "markdown",
   "metadata": {},
   "source": [
    "**Getting model of current User session**\n",
    "\n",
    "When User is implemented in another application of same project. we can get that object as follows, \n",
    "\n",
    "```python\n",
    "from django.contrib.auth import get_user_model\n",
    "#get model of the current user session\n",
    "User = get_user_model()\n",
    "#This User is used as Foreign key in GroupMembers class. User is implemented in another application of same project\n",
    "```"
   ]
  },
  {
   "cell_type": "markdown",
   "metadata": {},
   "source": [
    "### Getting model objects"
   ]
  },
  {
   "cell_type": "markdown",
   "metadata": {},
   "source": [
    "> By default, Django adds a **[Manager](https://docs.djangoproject.com/en/2.1/topics/db/managers/#django.db.models.Manager)** with the name **objects** to every Django model class.\n",
    "\n",
    "> A **Manager** is the interface through which **database query operations** are provided to Django models. At least one Manager exists for every model in a Django application.\n",
    "\n",
    "> The way Manager classes work is documented in [Making queries](https://docs.djangoproject.com/en/2.1/topics/db/queries/)"
   ]
  },
  {
   "cell_type": "markdown",
   "metadata": {},
   "source": [
    "**Getting all objects**\n",
    "```python\n",
    "all_obj_list = Post.objects.all()\n",
    "```\n",
    "\n",
    "**Getting specif object**\n",
    "```python\n",
    "self.post_user = User.objects.get(username__iexact=self.request.user.username)\n",
    "```\n",
    "\n",
    "**Filtering**\n",
    "```python\n",
    "#members is a field in Group model\n",
    "context[\"groups_of_user\"] = Group.objects.filter(members__in=[self.request.user])\n",
    "```\n",
    "\n",
    "Another way to get\n",
    "```python\n",
    "membership = GroupMember.objects.filter(user=self.request.user,group__slug=self.kwargs.get('slug')).get()\n",
    "```"
   ]
  },
  {
   "cell_type": "markdown",
   "metadata": {},
   "source": [
    "### Using get_queryset"
   ]
  },
  {
   "cell_type": "markdown",
   "metadata": {},
   "source": [
    "The following code grabs **all Post** object from database\n",
    "\n",
    "```python\n",
    "class PostList(generic.ListView):\n",
    "    model = models.Post\n",
    "```\n",
    "\n",
    "But sometimes we want just the objects that match certain criteria. For example, to get **Post** object having a **logged in username**\n",
    "\n",
    "```python\n",
    "def get_queryset(self):\n",
    "    queryset = super().get_queryset()\n",
    "    #post.user.username\n",
    "    return queryset.filter(user__username__iexact=self.request.user.username)\n",
    "```\n",
    "**NOTE:** Do not use **request.user** without login check"
   ]
  },
  {
   "cell_type": "markdown",
   "metadata": {},
   "source": [
    "To get **Post** object of **any specific user**\n",
    "\n",
    "```python\n",
    "from django.http import Http404\n",
    "\n",
    "#Under class UserPost\n",
    "def get_queryset(self):\n",
    "    try:\n",
    "        self.post_user = User.objects.get(username__iexact=self.kwargs.get(\"username\"))\n",
    "    except User.DoesNotExist:\n",
    "        #executed when there is exception\n",
    "        raise Http404\n",
    "    else:\n",
    "        #this statement will be executed when there is no exception\n",
    "        return self.post_user.posts.all()\n",
    "```\n",
    "\n",
    "**self.kwargs** is available for **url**\n",
    "```python\n",
    "##posts/by/<username>\n",
    "path('by/<username>',views.UserPost.as_view(),name='user_post')\n",
    "```"
   ]
  },
  {
   "cell_type": "markdown",
   "metadata": {},
   "source": [
    "### More about views\n",
    "\n",
    "Using reverse instead of reverse_lazy breaks compilation with circular import error\n",
    "\n",
    "success url overrides get_absolute_url defined in Models\n",
    "\n",
    "```python\n",
    "class CreateGroup(LoginRequiredMixin,generic.CreateView):\n",
    "    fields = ('name','description')\n",
    "    model = Group\n",
    "    template_name = \"groups/group_form.html\"\n",
    "    #Using reverse instead of reverse_lazy breaks compilation with circular import error\n",
    "    #success url overrides get_absolute_url defined in Models\n",
    "    success_url = reverse_lazy(\"index\")\n",
    "```"
   ]
  },
  {
   "cell_type": "markdown",
   "metadata": {},
   "source": [
    "### Using Redirect View\n",
    "\n",
    "You dont specify a model in this class. You just redefine **get** and **redirect** methods\n",
    "\n",
    "```python\n",
    "class JoinGroup(LoginRequiredMixin,generic.RedirectView):\n",
    "    #We have to get a specific Group object and create a new GroupMember\n",
    "\n",
    "    def get(self,request,*args,**kwargs):\n",
    "        group = get_object_or_404(Group,slug=self.kwargs.get('slug'))\n",
    "\n",
    "        try:\n",
    "            GroupMember.objects.create(user=self.request.user,group=group)\n",
    "        except IntegrityError:\n",
    "            messages.warning(self.request,'Warning! Already a member')\n",
    "        else:\n",
    "            messages.success(self.request,'You are now a member!')\n",
    "\n",
    "        return super().get(request,*args,**kwargs)\n",
    "\n",
    "    def get_redirect_url(self,*args,**kwargs):\n",
    "        return reverse(\"groups:single\",kwargs={'slug':self.kwargs.get('slug')})\n",
    "\n",
    "class LeaveGroup(LoginRequiredMixin,generic.RedirectView):\n",
    "\n",
    "    def get(self,request,*args,**kwargs):\n",
    "        try:\n",
    "            membership = GroupMember.objects.filter(user=self.request.user,group__slug=self.kwargs.get('slug')).get()\n",
    "        except GroupMember.DoesNotExist:\n",
    "            messages.warning(self.request,'Sorry You are not in this group')\n",
    "        else:\n",
    "            membership.delete()\n",
    "            messages.success(self.request,'You are not a member anymore!')\n",
    "\n",
    "        return super().get(request,*args,**kwargs)\n",
    "\n",
    "    def get_redirect_url(self,*args,**kwargs):\n",
    "        return reverse(\"groups:single\",kwargs={'slug':self.kwargs.get('slug')})\n",
    "```"
   ]
  },
  {
   "cell_type": "markdown",
   "metadata": {},
   "source": [
    "### Injecting html (include tag)\n",
    "\n",
    "Often times, when html becomes too long, we may want to break it up in separate files and inject them. This is done with **include** tag\n",
    "```html\n",
    "{% include \"posts/_post.html\" %}\n",
    "```\n",
    "_posts is just a convention for developers to understand that _post.html is a part of another html file"
   ]
  },
  {
   "cell_type": "code",
   "execution_count": null,
   "metadata": {},
   "outputs": [],
   "source": []
  }
 ],
 "metadata": {
  "kernelspec": {
   "display_name": "Python 3",
   "language": "python",
   "name": "python3"
  },
  "language_info": {
   "codemirror_mode": {
    "name": "ipython",
    "version": 3
   },
   "file_extension": ".py",
   "mimetype": "text/x-python",
   "name": "python",
   "nbconvert_exporter": "python",
   "pygments_lexer": "ipython3",
   "version": "3.4.3"
  }
 },
 "nbformat": 4,
 "nbformat_minor": 2
}
