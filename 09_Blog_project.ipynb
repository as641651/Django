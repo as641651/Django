{
 "cells": [
  {
   "cell_type": "markdown",
   "metadata": {},
   "source": [
    "## Notes taken while doing blog project\n"
   ]
  },
  {
   "cell_type": "markdown",
   "metadata": {},
   "source": [
    "### Steps:"
   ]
  },
  {
   "cell_type": "markdown",
   "metadata": {},
   "source": [
    "> 1) Create model classes\n",
    "\n",
    "> 2) Create forms for each model class and specify the attributes that can be edited\n",
    "\n",
    "> 3) Create the view\n",
    "\n",
    "> 4) create the template \n"
   ]
  },
  {
   "cell_type": "markdown",
   "metadata": {},
   "source": [
    "### Important"
   ]
  },
  {
   "cell_type": "markdown",
   "metadata": {},
   "source": [
    ">1) Using **get_queryset** method in Class based views\n",
    "\n",
    "```python\n",
    "class PostListView(ListView):\n",
    "    model = models.Post\n",
    "\n",
    "    #method to grab the list and order them\n",
    "    def get_queryset(self):\n",
    "        # __lte implies less than or equal to\n",
    "        #grab all posts less than current time and order by date in decending order (-published_date)\n",
    "        #published_date is an attribute in Post\n",
    "        return models.Post.objects.filter(published_date__lte = timezone.now()).order_by('-published_date')\n",
    "        #translates to SQL Command\n",
    "        # SELECT * FROM Post WHERE pub_date <= '2006-01-01';\n",
    "```\n",
    "\n",
    "> Django Db query [documentation](https://docs.djangoproject.com/en/2.1/topics/db/queries/) (Falls under **Field lookups**)\n",
    "\n",
    "> How python does this evaluation of argument names at run time? See [keyword arguments](https://docs.python.org/3/tutorial/controlflow.html#tut-keywordargs)"
   ]
  },
  {
   "cell_type": "markdown",
   "metadata": {},
   "source": [
    "> 2) Using bootstrap glyphicons (not available in bootstrap 4) / fontawsome\n",
    "\n",
    "```html\n",
    "              <!-- bootstrap icon (glyphicon) -->\n",
    "              <!-- ref : https://www.w3schools.com/icons/fontawesome_icons_webapp.asp -->\n",
    "              <span class=\"fa fa-user\" aria-hidden=\"true\"></span></a>\n",
    "```\n"
   ]
  },
  {
   "cell_type": "markdown",
   "metadata": {},
   "source": [
    ">3) Cool CSS classes from [codepen](https://codepen.io/thapliyalshivam/pen/dvgXVO) "
   ]
  },
  {
   "cell_type": "markdown",
   "metadata": {},
   "source": [
    ">4) Ordering list of objects in html template tagging \n",
    "```html\n",
    "<!-- sorting post.comments.all \n",
    "      ref : https://stackoverflow.com/questions/6540032/sorting-related-items-in-a-django-template -->\n",
    "      {% for comment in post.comments.all|dictsort:\"create_date\" %} (ascending)\n",
    "      {% for comment in post.comments.all|dictsortreversed:\"create_date\" %} (descending)\n",
    "```"
   ]
  },
  {
   "cell_type": "markdown",
   "metadata": {},
   "source": [
    ">5) No Reverse match error always has to do with the **URL**"
   ]
  },
  {
   "cell_type": "markdown",
   "metadata": {},
   "source": [
    "> 6) Using **auth login and logout** use auth.LoginView and LogoutView\n",
    "\n",
    "```python\n",
    "    from django.contrib.auth import views\n",
    "\n",
    "    urlpatterns = [\n",
    "        path('accounts/login',views.LoginView.as_view(),name='login'),\n",
    "        path('accounts/logout',views.LogoutView.as_view(),name='logout'),\n",
    "    ] \n",
    "```\n",
    "\n",
    "> the **redirect path** after **logout** can be specified as\n",
    "```html\n",
    "  <a class=\"nav-item nav-link\" href=\"{% url 'logout' %}?next={% url 'post_list' %}\">Log out</a>\n",
    "```\n",
    "\n",
    ">For  **login** we can specify in **settings.py**\n",
    "```html\n",
    "LOGIN_REDIRECT_URL = '/path_to_the_page'\n",
    "LOGIN_URL = '/path_to_the_page'\n",
    "```"
   ]
  },
  {
   "cell_type": "code",
   "execution_count": null,
   "metadata": {},
   "outputs": [],
   "source": []
  }
 ],
 "metadata": {
  "kernelspec": {
   "display_name": "Python 3",
   "language": "python",
   "name": "python3"
  },
  "language_info": {
   "codemirror_mode": {
    "name": "ipython",
    "version": 3
   },
   "file_extension": ".py",
   "mimetype": "text/x-python",
   "name": "python",
   "nbconvert_exporter": "python",
   "pygments_lexer": "ipython3",
   "version": "3.4.3"
  }
 },
 "nbformat": 4,
 "nbformat_minor": 2
}
