{
 "cells": [
  {
   "cell_type": "markdown",
   "metadata": {},
   "source": [
    "## Deploying at pythonanywhere"
   ]
  },
  {
   "cell_type": "markdown",
   "metadata": {},
   "source": [
    "> Create a free acount at [pythonanywhere](https://www.pythonanywhere.com/)\n",
    "\n",
    ">> Free account has 512MB space and can run one django project\n",
    "\n",
    ">> the site needs to checked every 3 months to continue running"
   ]
  },
  {
   "cell_type": "markdown",
   "metadata": {},
   "source": [
    "> Open **bash** console\n",
    "\n",
    ">>1) Create virtual env (named **myproj**) and set up django\n",
    "```bash\n",
    "mkvirtualenv --python=python3.7 myproj\n",
    "```\n",
    "\n",
    ">>2) load virtualenv\n",
    "```bash\n",
    "workon myproj\n",
    "```\n",
    ">>3) pip install **django** and other supporting libraries \n",
    "\n",
    ">>4) **git clone** the project folder\n",
    "\n",
    ">>5) open **settings.py** and add **ALLOWED_HOSTS = ['senesence.pythonanywhere.com',]**"
   ]
  },
  {
   "cell_type": "markdown",
   "metadata": {},
   "source": [
    "> Open **web** tab\n",
    "\n",
    ">> 1) Click on **add a new webapp**\n",
    "\n",
    ">> 2) Configure manually\n",
    "\n",
    ">> 3) Open the app configuration (simply click web tag again) and set\n",
    "\n",
    "```bash\n",
    "            virtualenv: /home/senesence/.virtualenvs/myproj\n",
    "\n",
    "            source_code : /home/senesence/<dir_pointing_to_manage.py>\n",
    "\n",
    "            static_url_admin: /static/admin\n",
    "\n",
    "            static_url_admin_directory: /home/senesence/.virtualenvs/myproj/lib/python3.7/site-packages/django/contrib/admin/static/admin\n",
    "\n",
    "            static_url_app: /static/\n",
    "\n",
    "            static_url_app_directory: /home/senesence/<dir_to_static_in_proj>\n",
    "```\n",
    "\n",
    ">> 4) Edit **WSGI config** file\n",
    "\n",
    "```python\n",
    "            import os\n",
    "            import sys\n",
    "            path = '/home/senesence/<dir_manage.py>'\n",
    "            if path not in sys.path:\n",
    "                sys.path.append(path)\n",
    "\n",
    "            os.chdir(path)\n",
    "            os.environ['DJANGO_SETTINGS_MODULE'] = '<proj_name>.settings'\n",
    "\n",
    "            import django\n",
    "            django.setup()\n",
    "\n",
    "            from django.core.wsgi import get_wsgi_application\n",
    "            application = get_wsgi_application()\n",
    "```\n",
    "\n",
    ">> 5) Click on **reload web app** and click on the link to see your project hosted at **{\n",
    "username}.pythonanywhere.com**"
   ]
  },
  {
   "cell_type": "markdown",
   "metadata": {},
   "source": [
    "### IMPORTANT: \n",
    "> Remeber to set **DEBUG=False** in **settings.py**"
   ]
  },
  {
   "cell_type": "code",
   "execution_count": null,
   "metadata": {},
   "outputs": [],
   "source": []
  }
 ],
 "metadata": {
  "kernelspec": {
   "display_name": "Python 3",
   "language": "python",
   "name": "python3"
  },
  "language_info": {
   "codemirror_mode": {
    "name": "ipython",
    "version": 3
   },
   "file_extension": ".py",
   "mimetype": "text/x-python",
   "name": "python",
   "nbconvert_exporter": "python",
   "pygments_lexer": "ipython3",
   "version": "3.4.3"
  }
 },
 "nbformat": 4,
 "nbformat_minor": 2
}
