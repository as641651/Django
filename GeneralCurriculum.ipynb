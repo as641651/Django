{
 "cells": [
  {
   "cell_type": "markdown",
   "metadata": {},
   "source": [
    "### General curriculum"
   ]
  },
  {
   "cell_type": "markdown",
   "metadata": {},
   "source": [
    "**First half (Front end)**\n",
    "\n",
    ">> 1) HTML, CSS, Javascript\n",
    "\n",
    ">> 2) Document object model (DOM) and jQuery\n",
    "\n",
    "**Second half (Back end)**\n",
    "\n",
    ">> 3) Python\n",
    "\n",
    ">> 4) Django and SQL\n",
    "\n",
    ">> 5) Website clones"
   ]
  },
  {
   "cell_type": "markdown",
   "metadata": {},
   "source": [
    "The course videos follow **Bootstrap 3** and **django 1.11**\n",
    "\n",
    "However codes arfe also available for **Bootstap 4** and **django 2.0**"
   ]
  },
  {
   "cell_type": "markdown",
   "metadata": {},
   "source": [
    "**Front end** : What we see on webpage\n",
    "\n",
    "**Back end** : Decides what to show on webpage"
   ]
  },
  {
   "cell_type": "markdown",
   "metadata": {},
   "source": [
    "**Back end** of a site has **3 components**:\n",
    "\n",
    ">>1) Language (eg. python)\n",
    "\n",
    ">>2) Framework (eg. Django)\n",
    "\n",
    ">>3) Database (eg. SQLite)"
   ]
  },
  {
   "cell_type": "markdown",
   "metadata": {},
   "source": [
    "Popular websites like pintrest, bitbucket, instagram etc run on Django"
   ]
  },
  {
   "cell_type": "markdown",
   "metadata": {},
   "source": [
    "**Full stack web development** is combining front end technologies with back end to build a website from scratch"
   ]
  },
  {
   "cell_type": "markdown",
   "metadata": {},
   "source": [
    "**Preferred reference** : [MDN Webdocs](https://developer.mozilla.org/en-US/docs/Web/HTML/Element)"
   ]
  },
  {
   "cell_type": "code",
   "execution_count": null,
   "metadata": {},
   "outputs": [],
   "source": []
  }
 ],
 "metadata": {
  "kernelspec": {
   "display_name": "Python 3",
   "language": "python",
   "name": "python3"
  },
  "language_info": {
   "codemirror_mode": {
    "name": "ipython",
    "version": 3
   },
   "file_extension": ".py",
   "mimetype": "text/x-python",
   "name": "python",
   "nbconvert_exporter": "python",
   "pygments_lexer": "ipython3",
   "version": "3.4.3"
  }
 },
 "nbformat": 4,
 "nbformat_minor": 2
}
