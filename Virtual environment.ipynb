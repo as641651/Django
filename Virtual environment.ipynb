{
 "cells": [
  {
   "cell_type": "markdown",
   "metadata": {},
   "source": [
    "## Virtual environment with conda\n",
    "\n",
    "Useful when root previliges are not required"
   ]
  },
  {
   "cell_type": "markdown",
   "metadata": {},
   "source": [
    "### Installation:\n",
    "\n",
    "> [Install miniconda](https://conda.io/docs/user-guide/install/linux.html)"
   ]
  },
  {
   "cell_type": "markdown",
   "metadata": {},
   "source": [
    "### User Guide\n",
    "\n",
    "> [Documentation](https://conda.io/docs/user-guide/tasks/manage-environments.html)"
   ]
  },
  {
   "cell_type": "markdown",
   "metadata": {},
   "source": [
    "** Creating new django env**\n",
    "\n",
    "> conda create --name myEnv django\n",
    "\n",
    "> source activate myEnv \n",
    "\n",
    "> source deactivate myEnv"
   ]
  },
  {
   "cell_type": "markdown",
   "metadata": {},
   "source": [
    "**List all envs**\n",
    "\n",
    "> conda info --envs\n",
    "\n",
    "> **OR**\n",
    "\n",
    "> conda env list"
   ]
  },
  {
   "cell_type": "markdown",
   "metadata": {},
   "source": [
    "** List of packages installed in env**\n",
    "\n",
    "> **If env is not activated:**\n",
    "\n",
    "> conda list -n myenv \n",
    "\n",
    "> **If env activated:**\n",
    "\n",
    "> conda list "
   ]
  },
  {
   "cell_type": "markdown",
   "metadata": {},
   "source": [
    "**Remove environment**\n",
    "\n",
    "> conda env remove --name myenv"
   ]
  },
  {
   "cell_type": "markdown",
   "metadata": {},
   "source": [
    "### Exporting environment\n",
    "\n",
    "> Most often we want to export the dependencies installed in an environment. This is done by creating a **.yml** file\n",
    "\n",
    "> Export your **active environment** to a new file\n",
    "```bash\n",
    "conda env export > environment.yml\n",
    "```\n",
    "\n",
    "> The first line of **.yml** file is the name of the environment\n",
    "\n",
    "> **Create the environment from the environment.yml file:**\n",
    "```bash\n",
    "conda env create -f environment.yml\n",
    "```"
   ]
  },
  {
   "cell_type": "code",
   "execution_count": null,
   "metadata": {},
   "outputs": [],
   "source": []
  }
 ],
 "metadata": {
  "kernelspec": {
   "display_name": "Python 3",
   "language": "python",
   "name": "python3"
  },
  "language_info": {
   "codemirror_mode": {
    "name": "ipython",
    "version": 3
   },
   "file_extension": ".py",
   "mimetype": "text/x-python",
   "name": "python",
   "nbconvert_exporter": "python",
   "pygments_lexer": "ipython3",
   "version": "3.4.3"
  }
 },
 "nbformat": 4,
 "nbformat_minor": 2
}
