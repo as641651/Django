{
 "cells": [
  {
   "cell_type": "markdown",
   "metadata": {},
   "source": [
    "## Modifying admin page"
   ]
  },
  {
   "cell_type": "markdown",
   "metadata": {},
   "source": [
    "The template files that are used for admin page are found in **git hub**, under the following directory structure\n",
    "\n",
    "> **django/django/contrib/admin/templates/admin/**"
   ]
  },
  {
   "cell_type": "markdown",
   "metadata": {},
   "source": [
    "The template files to be modifyed are placed under **templates/admin** from the top level directory in your project folder with the same correxponding name"
   ]
  },
  {
   "cell_type": "markdown",
   "metadata": {},
   "source": [
    "** Example**\n",
    "\n",
    "To modify the title and headings, modify **base_site.html**\n",
    "\n",
    "```html\n",
    "{% extends \"admin/base.html\" %}\n",
    "\n",
    "<!-- Modify title here -->\n",
    "{% block title %} Admin - Rental Registration {% endblock %}\n",
    "\n",
    "{% block branding %}\n",
    "<!-- modify heading here -->\n",
    "<h1 id=\"site-name\"><a href=\"{% url 'admin:index' %}\">Video Rental</a></h1>\n",
    "{% endblock %}\n",
    "{% block nav-global %}{% endblock %}\n",
    "```"
   ]
  },
  {
   "cell_type": "markdown",
   "metadata": {},
   "source": [
    "### Modifying the ordering and visibility of model fields in Admin table"
   ]
  },
  {
   "cell_type": "markdown",
   "metadata": {},
   "source": [
    "To do this, we create a new class in **admin.py** and **register** this class along with the model\n",
    "\n",
    "The name of this class should be **name of model followed by 'Admin'** and inherit from **admin.ModelAdmin**"
   ]
  },
  {
   "cell_type": "markdown",
   "metadata": {},
   "source": [
    "**models.py**\n",
    "\n",
    "```python\n",
    "# Create your models here.\n",
    "class Movie(models.Model):\n",
    "    title = models.CharField(max_length=256)\n",
    "    length = models.PositiveIntegerField()\n",
    "    release_year = models.PositiveIntegerField()\n",
    "\n",
    "    #Without this, the name of data in the table will be 'movie object'\n",
    "    def __str__(self):\n",
    "        return self.title\n",
    "```"
   ]
  },
  {
   "cell_type": "markdown",
   "metadata": {},
   "source": [
    "In **admin.py**\n",
    "\n",
    "```python\n",
    "#to reorder the fields in the detail view of Movie object in admin interface\n",
    "# The name of this class should be name of model followed by 'Admin'\n",
    "class MovieAdmin(admin.ModelAdmin):\n",
    "    fields = ['release_year','title']\n",
    "\n",
    "#Register this class along with your original model\n",
    "admin.site.register(models.Movie,MovieAdmin)\n",
    "```"
   ]
  },
  {
   "cell_type": "markdown",
   "metadata": {},
   "source": [
    "### Adding search box\n",
    "\n",
    "To do this we add a variable **search_fields** in **ModelAdmin** class\n",
    "\n",
    "```python\n",
    "class MovieAdmin(admin.ModelAdmin):\n",
    "    fields = ['release_year','title']\n",
    "\n",
    "    #Displays a search box and helps searching my movie title or length\n",
    "    search_fields = ['title','length']\n",
    "```"
   ]
  },
  {
   "cell_type": "markdown",
   "metadata": {},
   "source": [
    "### Adding filters\n",
    "In the **ModelAdmin** class\n",
    "```python\n",
    "    #Adding filters\n",
    "    # Not all fields can be appropriate for filters\n",
    "    #used for only categorical fields\n",
    "    list_filter = ['release_year']\n",
    "```"
   ]
  },
  {
   "cell_type": "markdown",
   "metadata": {},
   "source": [
    "### Displaying additional fields in the list view page of the models"
   ]
  },
  {
   "cell_type": "markdown",
   "metadata": {},
   "source": [
    "In **ModelAdmin** class\n",
    "```python\n",
    "    #Displays additional fields in the list view page of the model\n",
    "    list_display = ['title','release_year','length']\n",
    "```"
   ]
  },
  {
   "cell_type": "markdown",
   "metadata": {},
   "source": [
    "### Editing fields in list view of the model\n",
    "\n",
    "In **ModelAdmin** class\n",
    "\n",
    "```python\n",
    "    #List of fields that are allowed to be editable in list view of the model\n",
    "    #NOTE : This set should be a subset of list_display\n",
    "    list_editable = ['length']\n",
    "```"
   ]
  },
  {
   "cell_type": "code",
   "execution_count": null,
   "metadata": {},
   "outputs": [],
   "source": []
  }
 ],
 "metadata": {
  "kernelspec": {
   "display_name": "Python 3",
   "language": "python",
   "name": "python3"
  },
  "language_info": {
   "codemirror_mode": {
    "name": "ipython",
    "version": 3
   },
   "file_extension": ".py",
   "mimetype": "text/x-python",
   "name": "python",
   "nbconvert_exporter": "python",
   "pygments_lexer": "ipython3",
   "version": "3.4.3"
  }
 },
 "nbformat": 4,
 "nbformat_minor": 2
}
