{
 "cells": [
  {
   "cell_type": "markdown",
   "metadata": {},
   "source": [
    "### Create django project and display static content"
   ]
  },
  {
   "cell_type": "markdown",
   "metadata": {},
   "source": [
    "We ll be working with **Django 2.1.1**"
   ]
  },
  {
   "cell_type": "markdown",
   "metadata": {},
   "source": [
    "**django-admin** is a commandline tool installed along with Django"
   ]
  },
  {
   "cell_type": "markdown",
   "metadata": {},
   "source": [
    "### Start project\n",
    "\n",
    "```python\n",
    "django-admin startproject first_project\n",
    "```"
   ]
  },
  {
   "cell_type": "markdown",
   "metadata": {},
   "source": [
    "> This creates a folder **first_project** with a bunch of files:\n",
    "\n",
    ">> __init.py__ (makes the directory a package)\n",
    "\n",
    ">> **settings.py** (This is where we store all our project settings)\n",
    "\n",
    ">> **urls.py** (stores URL patterns for our project\n",
    "\n",
    ">> **wsgi.py** (Acts as webserver gateway interface. It will help us deply our webapp to production)\n",
    "\n",
    ">> **manage.py** (Majority of our code will go in here)"
   ]
  },
  {
   "cell_type": "markdown",
   "metadata": {},
   "source": [
    "### Run project"
   ]
  },
  {
   "cell_type": "markdown",
   "metadata": {},
   "source": [
    "```bash\n",
    "python manage.py runserver\n",
    "```\n",
    " \n",
    "> Starting development server at http://127.0.0.1:8000/"
   ]
  },
  {
   "cell_type": "markdown",
   "metadata": {},
   "source": [
    "### Create a Django app\n",
    "\n",
    "Django apps can be plugged into Django projects to render a specific application"
   ]
  },
  {
   "cell_type": "markdown",
   "metadata": {},
   "source": [
    "```bash\n",
    "python manage.py startapp first_app\n",
    "\n",
    "```"
   ]
  },
  {
   "cell_type": "markdown",
   "metadata": {},
   "source": [
    "> This creates a folder **first_app** with a bunch of files to be used in **Model View Template Pattern**:\n",
    "\n",
    ">> __init.py__ (makes the directory a package)\n",
    "\n",
    ">> **admin.py** (This is where we register models)\n",
    "\n",
    ">> **apps.py** (application specific configurations)\n",
    "\n",
    ">> **models.py** (Store applications data models. Specific entities and relationship between data)\n",
    "\n",
    ">> **tests.py** (Series of functions of test our application code)\n",
    "\n",
    ">> **views.py** (functions that handle request and return responses)\n",
    "\n",
    "> **Migration directory** (Stores database specific information as it relates to the models)"
   ]
  },
  {
   "cell_type": "markdown",
   "metadata": {},
   "source": [
    "### Adding app to Django project\n",
    "\n",
    "This is done by modifying **settings.py** to let **first_project** know about **first_app**\n",
    "\n",
    "Add **first_app** to the list **INSTALLED_APPS**"
   ]
  },
  {
   "cell_type": "markdown",
   "metadata": {},
   "source": [
    "```python\n",
    "INSTALLED_APPS = [\n",
    "    # Default apps\n",
    "    'django.contrib.admin',\n",
    "    'django.contrib.auth',\n",
    "    'django.contrib.contenttypes',\n",
    "    'django.contrib.sessions',\n",
    "    'django.contrib.messages',\n",
    "    'django.contrib.staticfiles',\n",
    "    #Created apps\n",
    "    'first_app'\n",
    "]\n",
    "```"
   ]
  },
  {
   "cell_type": "markdown",
   "metadata": {},
   "source": [
    "### Creating a View"
   ]
  },
  {
   "cell_type": "markdown",
   "metadata": {},
   "source": [
    "In **views.py**, create a function **index** and add it to **urls.py**\n",
    "\n",
    "```python\n",
    "\n",
    "# Create your views here.\n",
    "from django.http import HttpResponse\n",
    "\n",
    "def index(request):\n",
    "    #request is an object from django.http\n",
    "    return HttpResponse(\"Hello World!\")\n",
    "```"
   ]
  },
  {
   "cell_type": "markdown",
   "metadata": {},
   "source": [
    "In **urls.py**, add a path to **views.index** in **urlpatterns**"
   ]
  },
  {
   "cell_type": "markdown",
   "metadata": {},
   "source": [
    "```python\n",
    "##Default\n",
    "from django.contrib import admin\n",
    "from django.urls import path\n",
    "##New import\n",
    "from first_app import views\n",
    "\n",
    "urlpatterns = [\n",
    "    path('', views.index, name=\"index\"), ##Maps applications view to the url\n",
    "    path('admin/', admin.site.urls), ##Appears default\n",
    "]```"
   ]
  },
  {
   "cell_type": "markdown",
   "metadata": {},
   "source": [
    "**Running**\n",
    "```bash\n",
    "python manage.py runserver\n",
    "```\n",
    "> opens a URL with **Hello world** text"
   ]
  },
  {
   "cell_type": "markdown",
   "metadata": {},
   "source": [
    "### Mapping of URLS from other directories\n",
    "\n",
    "It is better to have url mappings of each app separate.\n",
    "\n",
    "Therefore, we have a separate **urls.py** in the **app folder** and include the following path in **urls.py** of the project,\n",
    "\n",
    "```python\n",
    "from django.urls import path, include\n",
    "\n",
    "urlpatterns = [\n",
    "    ...,\n",
    "       path('first_app/', include('first_app.urls')), # url : \"127.0.0.1:8000/first_app\"\n",
    "       # 'first_app' can be any arbitary string\n",
    "       # path('new_ext/', include('first_app.urls'))\n",
    "    ...\n",
    "]\n",
    "```\n",
    "\n",
    "The URL will be **www.domainname.com/first_app/...**\n",
    "\n",
    "eg: **http://127.0.0.1:8000/first_app**"
   ]
  },
  {
   "cell_type": "markdown",
   "metadata": {},
   "source": [
    "### Templates\n",
    "\n",
    "We dont want the HTML inside python. So we want to replace this line in the views with HTML files\n",
    "\n",
    "```python\n",
    "HttpResponse(\"Hello World!\")\n",
    "```"
   ]
  },
  {
   "cell_type": "markdown",
   "metadata": {},
   "source": [
    "For this, we put the HTML files in a template folder and add it to our settings\n",
    "\n",
    "> Create a new folder **templates** in the project folder\n",
    "\n",
    "> In **settings.py**, add the path of this directory to **TEMPLATES** dict "
   ]
  },
  {
   "cell_type": "markdown",
   "metadata": {},
   "source": [
    "```python\n",
    "\n",
    "#Dir pointing to manage.py\n",
    "BASE_DIR = os.path.dirname(os.path.dirname(os.path.abspath(__file__)))\n",
    "##template dir\n",
    "TEMPLATE_DIR = os.path.join(BASE_DIR,\"templates\")\n",
    "#../first_project/templates\n",
    "```"
   ]
  },
  {
   "cell_type": "markdown",
   "metadata": {},
   "source": [
    "```python\n",
    "TEMPLATES = [\n",
    "    {\n",
    "        ...,\n",
    "        'APP_DIRS': True,\n",
    "        'DIRS': [TEMPLATE_DIR,],\n",
    "    \n",
    "        ...,\n",
    "    },\n",
    "]\n",
    "```\n",
    "\n",
    "**NOTE: ** By default, django will automatically search in **first_app/templates** if **APP_DIRS** is set True. If we place index.html in **first_app/templates** we do not have to modify settings.py"
   ]
  },
  {
   "cell_type": "markdown",
   "metadata": {},
   "source": [
    "#### index.html (include the template variable to have text injection from views)\n",
    "\n",
    "```html\n",
    "<!DOCTYPE html>\n",
    "<html>\n",
    "  <head>\n",
    "    <meta charset=\"utf-8\">\n",
    "    <title>First App</title>\n",
    "  </head>\n",
    "  <body>\n",
    "    <h1>Hello! This is index.html</h1>\n",
    "\n",
    "    <!-- template variabe -->\n",
    "    {{insert_me}}\n",
    "  </body>\n",
    "</html>\n",
    "```"
   ]
  },
  {
   "cell_type": "markdown",
   "metadata": {},
   "source": [
    "**views.html**\n",
    "\n",
    "```python\n",
    "def index(request):\n",
    "    my_dict = { 'insert_me':\"Hello I am from views.py\"}\n",
    "    return render(request,'index.html',context=my_dict)\n",
    "    #../first_project/templates/index.html\n",
    "```"
   ]
  },
  {
   "cell_type": "markdown",
   "metadata": {},
   "source": [
    "Output \n",
    ">> ## Hello! This is index.html\n",
    "\n",
    ">> Hello I am from views.py\n",
    "\n",
    "> NOTE: text from template variable in views.py is also executed"
   ]
  },
  {
   "cell_type": "markdown",
   "metadata": {},
   "source": [
    "### Injecting Static files (Images, CSS, JS  etc)\n",
    "\n",
    "This is requried to let python find the files (say CSS, JS or image files) in our directory\n",
    "\n"
   ]
  },
  {
   "cell_type": "markdown",
   "metadata": {},
   "source": [
    "Create a new directory and add its path to **STATICFILES_DIRS** in **settings.py**. If the files are placed under **first_app/static**, we dont have to modify settings.py"
   ]
  },
  {
   "cell_type": "markdown",
   "metadata": {},
   "source": [
    "```python\n",
    "STATIC_DIR = os.path.join(BASE_DIR,\"static\")\n",
    "#include static dir here\n",
    "STATICFILES_DIRS = [\n",
    "        STATIC_DIR,\n",
    "        ]\n",
    "```"
   ]
  },
  {
   "cell_type": "markdown",
   "metadata": {},
   "source": [
    "Images and other static media are placed under this directory\n",
    "\n",
    "They can be accessed by appending the path to URL. (If an image **seo-og.jpg** is placed under **static/first_app/images/**)\n",
    "\n",
    "> then http://127.0.0.1:8000/static/first_app/images/seo-og.jpg"
   ]
  },
  {
   "cell_type": "markdown",
   "metadata": {},
   "source": [
    "To Use the image in HTML file, append the source with **% static** and include **{% load staticfiles %}** at the top of HTML file\n",
    "\n",
    "```html\n",
    " <!DOCTYPE html>\n",
    "{% load staticfiles %}\n",
    "<html>\n",
    "  <head>\n",
    "    <meta charset=\"utf-8\">\n",
    "    <title>First App</title>\n",
    "  </head>\n",
    "  <body>\n",
    "\n",
    "     <!-- image injection -->\n",
    "    <img style=\"width:500px;height:500px;\" src=\"{% static \"first_app/images/seo-og.jpg\" %}\" alt=\"Couldnt find\">\n",
    "\n",
    "\n",
    "  </body>\n",
    "</html>\n",
    "```"
   ]
  },
  {
   "cell_type": "markdown",
   "metadata": {},
   "source": [
    "Can also include **stylesheet**\n",
    "\n",
    "```html\n",
    "<link rel=\"stylesheet\" href=\"{% static \"first_app/css/mystyle.css\" %}\" />\n",
    "```"
   ]
  },
  {
   "cell_type": "code",
   "execution_count": null,
   "metadata": {},
   "outputs": [],
   "source": []
  }
 ],
 "metadata": {
  "kernelspec": {
   "display_name": "Python 3",
   "language": "python",
   "name": "python3"
  },
  "language_info": {
   "codemirror_mode": {
    "name": "ipython",
    "version": 3
   },
   "file_extension": ".py",
   "mimetype": "text/x-python",
   "name": "python",
   "nbconvert_exporter": "python",
   "pygments_lexer": "ipython3",
   "version": "3.4.3"
  }
 },
 "nbformat": 4,
 "nbformat_minor": 2
}
