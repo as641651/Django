{
 "cells": [
  {
   "cell_type": "markdown",
   "metadata": {},
   "source": [
    "## L3 Notes\n",
    "\n",
    "To receive data from the user and submit it to the server, we will use **forms**"
   ]
  },
  {
   "cell_type": "markdown",
   "metadata": {},
   "source": [
    "### Accessing data from html form in python"
   ]
  },
  {
   "cell_type": "markdown",
   "metadata": {},
   "source": [
    "> **index.html**\n",
    "```html\n",
    "<!-- To submit data, method should be post -->\n",
    "<!-- action specifies the url to which the data is submitted. If nothing is specified, data is sent to the view function linked with index.html -->\n",
    "  <form  method=\"post\" action=\"\">\n",
    "      <input type=\"text\" name=\"username\" placeholder=\"Username\">\n",
    "      <input type=\"password\" name=\"password\" placeholder=\"Password\">\n",
    "    <input type=\"submit\" name=\"submit\" value=\"Login\">\n",
    "  </form>\n",
    "```\n",
    "\n",
    "> **urls.py**\n",
    "```python\n",
    "path(\"\",views.index,name='index'), #form will be sent to view.index\n",
    "```\n",
    "\n",
    "> **views.index**\n",
    "\n",
    "```python\n",
    "    def index(request):\n",
    "        if request.method == 'POST':\n",
    "            #Get the fields\n",
    "            username = request.POST.get('username')\n",
    "            password = request.POST.get('password')\n",
    "```"
   ]
  },
  {
   "cell_type": "markdown",
   "metadata": {},
   "source": [
    "### Creating a basic form\n",
    "\n",
    "> **Django forms** can be used which comes with several conveniences like **validators**, **interaction with database** etc\n",
    "\n",
    "> 1) Create a form class in **app3/forms.py** (same as that of model)"
   ]
  },
  {
   "cell_type": "markdown",
   "metadata": {},
   "source": [
    "```python\n",
    "from django import forms\n",
    "\n",
    "class FormName(forms.Form):\n",
    "    name = forms.CharField()\n",
    "    email = forms.EmailField()\n",
    "    text = forms.CharField(widget=forms.Textarea) \n",
    "    #Pass on the widget textarea. Otherwise, input looks same as that of name and email\n",
    "```    "
   ]
  },
  {
   "cell_type": "markdown",
   "metadata": {},
   "source": [
    "> 2) Use the form class in **views.py**"
   ]
  },
  {
   "cell_type": "markdown",
   "metadata": {},
   "source": [
    "```python\n",
    "from app3 import forms\n",
    "\n",
    "def form_name_view(request):\n",
    "    form = forms.FormName()\n",
    "    return render(request,'form_page.html',context={'form':form})\n",
    "```"
   ]
  },
  {
   "cell_type": "markdown",
   "metadata": {},
   "source": [
    "> 3) **Inject** the form into **form_page.html**. Note that **csrf_token** is necessary for posting the form. "
   ]
  },
  {
   "cell_type": "markdown",
   "metadata": {},
   "source": [
    "```html\n",
    "<body>\n",
    "\n",
    "    <h1>Form Page</h1>\n",
    "    \n",
    "    <form method=\"post\">\n",
    "      {{form}}\n",
    "      <!-- {form.as_p} renders the fields in separate lines -->\n",
    "\n",
    "      {% csrf_token %}\n",
    "      <!-- This is a security token, without which the form breaks -->\n",
    "\n",
    "    </form>\n",
    "      \n",
    "</body>\n",
    "```\n",
    "\n",
    "Changes in form input attributes can be done through **views.py** (demonstrated later). It can also be done in the template by creating **custom template tags**"
   ]
  },
  {
   "cell_type": "markdown",
   "metadata": {},
   "source": [
    "### Accessing the submitted form data\n",
    "\n",
    "We can access the submited data by grabbing the form with **request** object in **views.py**"
   ]
  },
  {
   "cell_type": "markdown",
   "metadata": {},
   "source": [
    "```python\n",
    "def form_name_view(request): # Linked with urls.py to get the request object\n",
    "        \n",
    "    if request.method == 'POST':\n",
    "        form = forms.FormName(request.POST)\n",
    "        \n",
    "        do_something_with_data(form)\n",
    "        \n",
    "    form = forms.FormName()\n",
    "    return render(request,'form_page.html',context={'form':form})\n",
    "\n",
    "def do_something_with_data(form):\n",
    "    \n",
    "    if form.is_valid(): #Check if form fields are valid\n",
    "\n",
    "        # Do Something\n",
    "        print(\"Validation success\")\n",
    "\n",
    "        # Access the data\n",
    "        name = form.cleaned_data['name']\n",
    "        print(\"NAME :\", name)\n",
    "```"
   ]
  },
  {
   "cell_type": "markdown",
   "metadata": {},
   "source": [
    "### Creating custom validation\n",
    "\n",
    "This is done by creating methods **clean_{fieldName}** in the **form class**"
   ]
  },
  {
   "cell_type": "markdown",
   "metadata": {},
   "source": [
    "```python\n",
    "class FormName(forms.Form):\n",
    "    name = forms.CharField()\n",
    "    email = forms.EmailField()\n",
    "    text = forms.CharField(widget=forms.Textarea)\n",
    "\n",
    "    #Each field has certain default validation check.\n",
    "    #We can also add custom Validation\n",
    "    #Eg. Lets demonstrate botcather\n",
    "\n",
    "    botcatcher = forms.CharField(required=False,widget=forms.HiddenInput)\n",
    "    ##Hidden input widget hides the field from rendering.\n",
    "    ## But the field will be present in HTML element which a bot uses\n",
    "\n",
    "    #Define a method starting with clean_<field_name>.\n",
    "    #Django will automatically look for this method while Validation\n",
    "    def clean_botcatcher(self):\n",
    "        botcather = self.cleaned_data['botcatcher']\n",
    "        if len(botcather):\n",
    "            raise forms.ValidationError(\"Gotcha Bot!\")\n",
    "        return botcather\n",
    "```"
   ]
  },
  {
   "cell_type": "markdown",
   "metadata": {},
   "source": [
    "Django's built-in validators can also be used. Look the [documentation](https://docs.djangoproject.com/en/2.1/ref/validators/) for complete list of validators "
   ]
  },
  {
   "cell_type": "markdown",
   "metadata": {},
   "source": [
    "```python\n",
    "from django.core import validators\n",
    "\n",
    "##Using django built-in validators\n",
    "    botcather1 = forms.CharField(required=False,\n",
    "                                 widget=forms.HiddenInput,\n",
    "                                 validators=[validators.MaxLengthValidator(0)])\n",
    "```"
   ]
  },
  {
   "cell_type": "markdown",
   "metadata": {},
   "source": [
    "Custom validators can also be passed in through **validators argument**"
   ]
  },
  {
   "cell_type": "markdown",
   "metadata": {},
   "source": [
    "```python\n",
    "    #Custom validator can also be passed in through validators arg\n",
    "    #needs first argument to be 'value'\n",
    "    def check_for_z(value):\n",
    "        if value[0].lower() != 'z':\n",
    "            raise forms.ValidationError(\"Needs to start with Z\")\n",
    "\n",
    "    refree = forms.CharField(validators=[check_for_z])\n",
    "```\n",
    "\n",
    "Note: Can also be used with **model fields**"
   ]
  },
  {
   "cell_type": "markdown",
   "metadata": {},
   "source": [
    "We can also have validators for all fields defined under a single method"
   ]
  },
  {
   "cell_type": "markdown",
   "metadata": {},
   "source": [
    "```python\n",
    "\n",
    "    # Changing label\n",
    "    verify_email = forms.EmailField(label=\"Re-enter email\")\n",
    "\n",
    "    ##We can also have a single validator for all fields at once\n",
    "    def clean(self):\n",
    "        #grab all clean data\n",
    "        all_clean = super().clean()\n",
    "\n",
    "        ##Prints only clean data\n",
    "        print(super().clean())\n",
    "\n",
    "        if 'email' in all_clean and 'verify_email' in all_clean:\n",
    "            if all_clean['email'] != all_clean['verify_email']:\n",
    "                raise forms.ValidationError(\"Make sure emails are same\")\n",
    "```"
   ]
  },
  {
   "cell_type": "markdown",
   "metadata": {},
   "source": [
    "### Saving Form inputs to a Model"
   ]
  },
  {
   "cell_type": "markdown",
   "metadata": {},
   "source": [
    "> Create model and migrate\n",
    "\n",
    "> In **forms.py**\n",
    "\n",
    ">> Instead of inherting from **forms.Forms**, we will use **forms.ModelForm** in **forms.py**\n",
    "\n",
    ">> We then add an inline class called **meta** which connects the model to form\n",
    "\n",
    "> In **views.py**\n",
    "\n",
    ">> Grab the form and use **form.save()** to save the form into database"
   ]
  },
  {
   "cell_type": "markdown",
   "metadata": {},
   "source": [
    "**models.py**\n",
    "\n",
    "```python\n",
    "from django.db import models\n",
    "\n",
    "# Create your models here.\n",
    "class SignUp(models.Model):\n",
    "    name = models.CharField(max_length=264);\n",
    "    email = models.EmailField();\n",
    "```\n",
    "\n",
    "**NOTE:** Remember to migrate and register model in admin.py"
   ]
  },
  {
   "cell_type": "markdown",
   "metadata": {},
   "source": [
    "**forms.py**\n",
    "\n",
    "**Changes** to **input attributes** are demonstrated\n",
    "\n",
    "```python\n",
    "from django import forms\n",
    "from app3.models import SignUp\n",
    "\n",
    "class Form_SignUp(forms.ModelForm):\n",
    "    #Can have validators/other modifications here. Not Compulsory. \n",
    "    name = forms.CharField(label=\"\",widget=forms.TextInput(attrs={'placeholder':'Name'}))\n",
    "    #field names and form names should match\n",
    "\n",
    "    class Meta:\n",
    "        model = SignUp #Assign model\n",
    "        fields = \"__all__\" # All fields in model\n",
    "        #exclude = [exclude1,exclude2] #All model fields except\n",
    "        #fields = (include1,include2) #Only these model fields\n",
    "```"
   ]
  },
  {
   "cell_type": "markdown",
   "metadata": {},
   "source": [
    "**views.py**\n",
    "```python\n",
    "def form_signUp_view(request):\n",
    "    form = forms.Form_SignUp()\n",
    "\n",
    "    if request.method == 'POST':\n",
    "        form = forms.Form_SignUp(request.POST)\n",
    "\n",
    "        if form.is_valid():\n",
    "            form.save(commit=True) # Save form to database\n",
    "        else:\n",
    "            print(\"Invalid\")\n",
    "\n",
    "    return render(request,'form_page2.html',context={'form':form})\n",
    "```"
   ]
  },
  {
   "cell_type": "code",
   "execution_count": null,
   "metadata": {},
   "outputs": [],
   "source": []
  }
 ],
 "metadata": {
  "kernelspec": {
   "display_name": "Python 3",
   "language": "python",
   "name": "python3"
  },
  "language_info": {
   "codemirror_mode": {
    "name": "ipython",
    "version": 3
   },
   "file_extension": ".py",
   "mimetype": "text/x-python",
   "name": "python",
   "nbconvert_exporter": "python",
   "pygments_lexer": "ipython3",
   "version": "3.4.3"
  }
 },
 "nbformat": 4,
 "nbformat_minor": 2
}
