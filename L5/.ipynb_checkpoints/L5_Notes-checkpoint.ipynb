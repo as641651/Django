{
 "cells": [
  {
   "cell_type": "markdown",
   "metadata": {},
   "source": [
    "## L5 Notes"
   ]
  },
  {
   "cell_type": "markdown",
   "metadata": {},
   "source": [
    "In this section, we ll look into built-in tools that are used for **user authentication**"
   ]
  },
  {
   "cell_type": "markdown",
   "metadata": {},
   "source": [
    "### Passwords"
   ]
  },
  {
   "cell_type": "markdown",
   "metadata": {},
   "source": [
    "> Make sure these two apps are listed in **settings.py** (They are usualy preloaded. If you load them manually, remember to **migrate**)\n",
    "\n",
    "```python\n",
    "        INSTALLED_APPS = [\n",
    "            'django.contrib.auth',\n",
    "            'django.contrib.contenttypes',\n",
    "        ]\n",
    "```"
   ]
  },
  {
   "cell_type": "markdown",
   "metadata": {},
   "source": [
    "> **Never store passwords as plain text!** Use django's **built-in hashing algorithm (SHA - Secure Hashing algorithm).** \n",
    "\n",
    ">> Django's **default** hashing algorithm is **PBKDF2**\n",
    "\n",
    ">> For more secure hashing algorithms, we can use state-of-art applications like **bcrypt** and **argon2**\n",
    "\n",
    ">>>```bash\n",
    "pip install bcrypt\n",
    "pip install django[argon2]\n",
    "```\n",
    "\n",
    ">>> Inside of settings.py you can then pass in the list of PASSWORD_HASHERS to try **in the order you want to try them**.\n",
    "```python\n",
    "PASSWORD_HASHERS = [\n",
    "    'django.contrib.auth.hashers.Argon2PasswordHasher',\n",
    "    'django.contrib.auth.hashers.BCryptSHA256PasswordHasher',\n",
    "    'django.contrib.auth.hashers.BCryptPasswordHasher',\n",
    "    'django.contrib.auth.hashers.PBKDF2PasswordHasher',\n",
    "    'django.contrib.auth.hashers.PBKDF2SHA1PasswordHasher',\n",
    "]\n",
    "```\n",
    "\n",
    ">> Django's built-in password validators\n",
    "```python\n",
    "##Django's built in password validators\n",
    "AUTH_PASSWORD_VALIDATORS = [\n",
    "    {   #Checks if password is similar to user name or other attributes\n",
    "        'NAME': 'django.contrib.auth.password_validation.UserAttributeSimilarityValidator',\n",
    "    },\n",
    "    {   #Checks for min length\n",
    "        'NAME': 'django.contrib.auth.password_validation.MinimumLengthValidator',\n",
    "        #We can pass options to modify behaviour\n",
    "        'OPTION': {'min_length':9}, \n",
    "    },\n",
    "    {   #checks for weak password\n",
    "        'NAME': 'django.contrib.auth.password_validation.CommonPasswordValidator',\n",
    "    },\n",
    "    {   #Make sure password has numbers\n",
    "        'NAME': 'django.contrib.auth.password_validation.NumericPasswordValidator',\n",
    "    },\n",
    "]\n",
    "```\n",
    "Check [documentation](https://docs.djangoproject.com/en/2.1/topics/auth/passwords/#password-validation) for list of password validation and its options"
   ]
  },
  {
   "cell_type": "markdown",
   "metadata": {},
   "source": [
    "### Create media directory\n",
    "\n",
    "> The media contents **uploaded by the user**(eg, profile pic) are stored under media directory. Make sure to add this directory in **settings.py**\n",
    "```python\n",
    "# MEDIA INFORMATION:\n",
    "MEDIA_URL = '/media/'\n",
    "MEDIA_ROOT = os.path.join(BASE_DIR, 'media')\n",
    "```"
   ]
  },
  {
   "cell_type": "markdown",
   "metadata": {},
   "source": [
    "> To view these media through the **admin interface**, the following lines should be included in **urls.py**\n",
    "\n",
    "```python\n",
    "    from django.conf import settings\n",
    "\n",
    "    if settings.DEBUG:\n",
    "        from django.conf.urls.static import static\n",
    "        from django.contrib.staticfiles.urls import staticfiles_urlpatterns\n",
    "\n",
    "        # Serve static and media files from development server\n",
    "        urlpatterns += staticfiles_urlpatterns()\n",
    "        urlpatterns += static(settings.MEDIA_URL,\n",
    "                            document_root=settings.MEDIA_ROOT)\n",
    "```"
   ]
  },
  {
   "cell_type": "markdown",
   "metadata": {},
   "source": [
    "### Storing User data in admin interface\n",
    "\n",
    "> There is a default **User** and **Groups** field in the admin interface which stores the information of the superusers etc."
   ]
  },
  {
   "cell_type": "markdown",
   "metadata": {},
   "source": [
    "> To create a form to fill this field, use the **User** object in **forms.py**\n",
    "\n",
    "```python\n",
    "    #Import User from authorization models\n",
    "    from django.contrib.auth.models import User\n",
    "    #Attributes under User :\n",
    "\n",
    "    # username\n",
    "    # password\n",
    "    # email\n",
    "    # first_name\n",
    "    # last_name\n",
    "\n",
    "    class UserForm(forms.ModelForm):\n",
    "\n",
    "        password = forms.CharField(widget=forms.PasswordInput())\n",
    "\n",
    "        class Meta:\n",
    "            model = User\n",
    "            fields = ('username','email','password')\n",
    "```"
   ]
  },
  {
   "cell_type": "markdown",
   "metadata": {},
   "source": [
    "> Most of the times, we may want to extend the attributes of the **User** object. We do this in **models.py** by creating a class that **has-the fields of User object**\n",
    "\n",
    "```python\n",
    "    from django.db import models\n",
    "    #Import User from authorization models\n",
    "    from django.contrib.auth.models import User\n",
    "    # Create your models here.\n",
    "\n",
    "    class UserProfileInfo(models.Model):\n",
    "\n",
    "        #Has-a relationship with User class!\n",
    "        user = models.OneToOneField(User,on_delete=models.CASCADE)\n",
    "\n",
    "        #additional attributes\n",
    "        portfolio_site = models.URLField(blank=True)\n",
    "        #upload_to='profile_pics' requires profile_pics to be a sub-dir under media\n",
    "        # pip install pillow to use this!\n",
    "        profile_pic = models.ImageField(upload_to='profile_pics',blank=True)\n",
    "\n",
    "        def __str__(self):\n",
    "            return self.user.username\n",
    "```"
   ]
  },
  {
   "cell_type": "markdown",
   "metadata": {},
   "source": [
    "> In **forms.py** we add\n",
    "\n",
    "```python\n",
    "    from app5.models import UserProfileInfo\n",
    "\n",
    "    class UserProfileInfoForm(forms.ModelForm):\n",
    "\n",
    "        class Meta:\n",
    "            model = UserProfileInfo\n",
    "            fields = ('portfolio_site','profile_pic')\n",
    "```"
   ]
  },
  {
   "cell_type": "markdown",
   "metadata": {},
   "source": [
    "> In **views.py**, there are several important things to note:\n",
    "\n",
    ">>1) **Passwords** should be **hashed** and saved\n",
    "\n",
    ">>2) In case of **NULL** in the **fields** with **required=True**, code will break when trying to save to DB. Therefore, use **commit=False**\n",
    "\n",
    ">>3) **Media files** should be **manually set**"
   ]
  },
  {
   "cell_type": "markdown",
   "metadata": {},
   "source": [
    "```python\n",
    "    from django.shortcuts import render\n",
    "    from app5 import forms\n",
    "\n",
    "    # Create your views here.\n",
    "    def index(request):\n",
    "        return render(request,'index.html')\n",
    "\n",
    "    def register(request):\n",
    "\n",
    "            registered=False\n",
    "\n",
    "            if request.method == \"POST\":\n",
    "                user_form = forms.UserForm(request.POST)\n",
    "                profile_form = forms.UserProfileInfoForm(request.POST)\n",
    "\n",
    "                if user_form.is_valid() and profile_form.is_valid():\n",
    "\n",
    "                    user = user_form.save()\n",
    "                    #Hash the password. Without this, hashing algorithm is not applied and password is not saved\n",
    "                    user.set_password(user.password)\n",
    "                    user.save()\n",
    "\n",
    "                    #commit = false does NOT save into database\n",
    "                    #Without this, the code breaks because profile.user is NULL\n",
    "                    profile = profile_form.save(commit=False)\n",
    "                    #one-to-one relation with user. We dont apply this in the form field\n",
    "                    profile.user = user\n",
    "\n",
    "                    #Without this, the image is not saved in the directory nor shown in the admin\n",
    "                    if 'profile_pic' in request.FILES:\n",
    "                        profile.profile_pic = request.FILES['profile_pic']\n",
    "\n",
    "                    profile.save()\n",
    "\n",
    "                    registered = True\n",
    "                else:\n",
    "                    print(user_form.errors,profile_form.errors)\n",
    "\n",
    "            else:\n",
    "                    user_form = forms.UserForm()\n",
    "                    profile_form = forms.UserProfileInfoForm()\n",
    "\n",
    "            return render(request,'registration.html',\n",
    "                                 {'registered':registered,\n",
    "                                  'user_form':user_form,\n",
    "                                  'profile_form':profile_form})\n",
    "\n",
    "```"
   ]
  },
  {
   "cell_type": "markdown",
   "metadata": {},
   "source": [
    "### Login user"
   ]
  },
  {
   "cell_type": "markdown",
   "metadata": {},
   "source": [
    "> In **settings.py** add redirect url\n",
    "```python\n",
    "#LOG IN URL (shoule match with urls.py)\n",
    "LOGIN_URL = '/app5/user_login/'\n",
    "```\n",
    "\n",
    "> Provide the **validation** in **views.py**"
   ]
  },
  {
   "cell_type": "markdown",
   "metadata": {},
   "source": [
    "```python\n",
    "    from django.contrib.auth import authenticate, login, logout\n",
    "    from django.http import HttpResponse, HttpResponseRedirect\n",
    "    #reverse(name) does the samething as {% url 'name'%}\n",
    "    from django.urls import reverse\n",
    "    # Upon decorating, this view requires the user to be logged in to render\n",
    "    from django.contrib.auth.decorators import login_required\n",
    "\n",
    "    def user_login(request): #renders login.html or redirects to homepage on login\n",
    "\n",
    "        if request.method == 'POST':\n",
    "            #Get the fields\n",
    "            username = request.POST.get('username') #login.html has a form with field names 'username'\n",
    "            password = request.POST.get('password')\n",
    "\n",
    "            #Authenticates the password for the user\n",
    "            #This return variable can be accessed across all HTML templates!\n",
    "            user = authenticate(username=username,password=password)\n",
    "\n",
    "            if user:\n",
    "                if user.is_active:\n",
    "                    #The user remains logged in across the whole project\n",
    "                    login(request,user)\n",
    "                    #redirect to index.html\n",
    "                    return HttpResponseRedirect(reverse('index'))\n",
    "                else:\n",
    "                    return HttpResponse(\"Account not active\")\n",
    "            else:\n",
    "                print(username, \" tried to login with password \", password)\n",
    "                return HttpResponse(\"Invalid login details supplied!\")\n",
    "        else:\n",
    "            return render(request,'login.html')\n",
    "\n",
    "\n",
    "    #This code breaks if there is no login\n",
    "    @login_required\n",
    "    def user_logout(request):\n",
    "        #The user is not logged out until this link is clicked\n",
    "        logout(request)\n",
    "        return HttpResponseRedirect(reverse('index'))\n",
    "```"
   ]
  },
  {
   "cell_type": "markdown",
   "metadata": {},
   "source": [
    "> In **urls.py**\n",
    "```python\n",
    "    path(\"logout/\",views.user_logout,name='logout'),\n",
    "    path(\"user_login/\",views.user_login,name='user_login'),\n",
    "```"
   ]
  },
  {
   "cell_type": "markdown",
   "metadata": {},
   "source": [
    "> **Using the authentication variable in HTML**\n",
    "```html\n",
    "<div class=\"jumbotron\">\n",
    "  <!-- Tag user is available from views.py\n",
    "    user = authenticate(username=username,password=password) -->\n",
    "  {% if user.is_active %}\n",
    "    <h1> Hello {{user.username}}</h1>\n",
    "  {% else %}\n",
    "    <h1>Hello user!</h1>\n",
    "  {% endif %}\n",
    "</div>\n",
    "```\n",
    "\n",
    "> Check [documentation](https://docs.djangoproject.com/en/2.1/ref/contrib/auth/) for all attributes"
   ]
  },
  {
   "cell_type": "code",
   "execution_count": null,
   "metadata": {},
   "outputs": [],
   "source": []
  }
 ],
 "metadata": {
  "kernelspec": {
   "display_name": "Python 3",
   "language": "python",
   "name": "python3"
  },
  "language_info": {
   "codemirror_mode": {
    "name": "ipython",
    "version": 3
   },
   "file_extension": ".py",
   "mimetype": "text/x-python",
   "name": "python",
   "nbconvert_exporter": "python",
   "pygments_lexer": "ipython3",
   "version": "3.4.3"
  }
 },
 "nbformat": 4,
 "nbformat_minor": 2
}
